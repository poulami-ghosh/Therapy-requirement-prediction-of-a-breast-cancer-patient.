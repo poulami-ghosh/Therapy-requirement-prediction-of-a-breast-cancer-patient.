{
 "cells": [
  {
   "cell_type": "code",
   "execution_count": 1,
   "id": "30355555",
   "metadata": {},
   "outputs": [],
   "source": [
    "############################### standard imports\n",
    "import pandas as pd\n",
    "import numpy as np\n",
    "import matplotlib.pyplot as plt\n",
    "%matplotlib inline\n",
    "import seaborn as sns"
   ]
  },
  {
   "cell_type": "code",
   "execution_count": 2,
   "id": "cd8a496e",
   "metadata": {},
   "outputs": [
    {
     "data": {
      "text/html": [
       "<div>\n",
       "<style scoped>\n",
       "    .dataframe tbody tr th:only-of-type {\n",
       "        vertical-align: middle;\n",
       "    }\n",
       "\n",
       "    .dataframe tbody tr th {\n",
       "        vertical-align: top;\n",
       "    }\n",
       "\n",
       "    .dataframe thead th {\n",
       "        text-align: right;\n",
       "    }\n",
       "</style>\n",
       "<table border=\"1\" class=\"dataframe\">\n",
       "  <thead>\n",
       "    <tr style=\"text-align: right;\">\n",
       "      <th></th>\n",
       "      <th>Class</th>\n",
       "      <th>Age</th>\n",
       "      <th>Menopause</th>\n",
       "      <th>Tumor-size</th>\n",
       "      <th>Inv-nodes</th>\n",
       "      <th>Node-caps</th>\n",
       "      <th>Deg-malig</th>\n",
       "      <th>Breast</th>\n",
       "      <th>Breast-quad</th>\n",
       "      <th>Irradiat</th>\n",
       "    </tr>\n",
       "  </thead>\n",
       "  <tbody>\n",
       "    <tr>\n",
       "      <th>0</th>\n",
       "      <td>no-recurrence-events</td>\n",
       "      <td>30-39</td>\n",
       "      <td>premeno</td>\n",
       "      <td>30-34</td>\n",
       "      <td>0-2</td>\n",
       "      <td>no</td>\n",
       "      <td>3</td>\n",
       "      <td>left</td>\n",
       "      <td>left_low</td>\n",
       "      <td>no</td>\n",
       "    </tr>\n",
       "    <tr>\n",
       "      <th>1</th>\n",
       "      <td>no-recurrence-events</td>\n",
       "      <td>40-49</td>\n",
       "      <td>premeno</td>\n",
       "      <td>20-24</td>\n",
       "      <td>0-2</td>\n",
       "      <td>no</td>\n",
       "      <td>2</td>\n",
       "      <td>right</td>\n",
       "      <td>right_up</td>\n",
       "      <td>no</td>\n",
       "    </tr>\n",
       "    <tr>\n",
       "      <th>2</th>\n",
       "      <td>no-recurrence-events</td>\n",
       "      <td>40-49</td>\n",
       "      <td>premeno</td>\n",
       "      <td>20-24</td>\n",
       "      <td>0-2</td>\n",
       "      <td>no</td>\n",
       "      <td>2</td>\n",
       "      <td>left</td>\n",
       "      <td>left_low</td>\n",
       "      <td>no</td>\n",
       "    </tr>\n",
       "    <tr>\n",
       "      <th>3</th>\n",
       "      <td>no-recurrence-events</td>\n",
       "      <td>60-69</td>\n",
       "      <td>ge40</td>\n",
       "      <td>15-19</td>\n",
       "      <td>0-2</td>\n",
       "      <td>no</td>\n",
       "      <td>2</td>\n",
       "      <td>right</td>\n",
       "      <td>left_up</td>\n",
       "      <td>no</td>\n",
       "    </tr>\n",
       "    <tr>\n",
       "      <th>4</th>\n",
       "      <td>no-recurrence-events</td>\n",
       "      <td>40-49</td>\n",
       "      <td>premeno</td>\n",
       "      <td>0-4</td>\n",
       "      <td>0-2</td>\n",
       "      <td>no</td>\n",
       "      <td>2</td>\n",
       "      <td>right</td>\n",
       "      <td>right_low</td>\n",
       "      <td>no</td>\n",
       "    </tr>\n",
       "  </tbody>\n",
       "</table>\n",
       "</div>"
      ],
      "text/plain": [
       "                  Class    Age Menopause Tumor-size Inv-nodes Node-caps  \\\n",
       "0  no-recurrence-events  30-39   premeno      30-34       0-2        no   \n",
       "1  no-recurrence-events  40-49   premeno      20-24       0-2        no   \n",
       "2  no-recurrence-events  40-49   premeno      20-24       0-2        no   \n",
       "3  no-recurrence-events  60-69      ge40      15-19       0-2        no   \n",
       "4  no-recurrence-events  40-49   premeno        0-4       0-2        no   \n",
       "\n",
       "   Deg-malig Breast Breast-quad Irradiat  \n",
       "0          3   left    left_low       no  \n",
       "1          2  right    right_up       no  \n",
       "2          2   left    left_low       no  \n",
       "3          2  right     left_up       no  \n",
       "4          2  right   right_low       no  "
      ]
     },
     "execution_count": 2,
     "metadata": {},
     "output_type": "execute_result"
    }
   ],
   "source": [
    "###### visualize the data\n",
    "data=pd.read_excel(r\"C:\\Users\\POULAMI\\Desktop\\own data\\Train_Breast_Cancer.xlsx\")\n",
    "data.head()"
   ]
  },
  {
   "cell_type": "markdown",
   "id": "aaf9eb8d",
   "metadata": {},
   "source": [
    "# EDA"
   ]
  },
  {
   "cell_type": "code",
   "execution_count": 3,
   "id": "ede3450a",
   "metadata": {},
   "outputs": [
    {
     "data": {
      "text/html": [
       "<div>\n",
       "<style scoped>\n",
       "    .dataframe tbody tr th:only-of-type {\n",
       "        vertical-align: middle;\n",
       "    }\n",
       "\n",
       "    .dataframe tbody tr th {\n",
       "        vertical-align: top;\n",
       "    }\n",
       "\n",
       "    .dataframe thead th {\n",
       "        text-align: right;\n",
       "    }\n",
       "</style>\n",
       "<table border=\"1\" class=\"dataframe\">\n",
       "  <thead>\n",
       "    <tr style=\"text-align: right;\">\n",
       "      <th></th>\n",
       "      <th>Class</th>\n",
       "      <th>Age</th>\n",
       "      <th>Menopause</th>\n",
       "      <th>Tumor-size</th>\n",
       "      <th>Inv-nodes</th>\n",
       "      <th>Node-caps</th>\n",
       "      <th>Deg-malig</th>\n",
       "      <th>Breast</th>\n",
       "      <th>Breast-quad</th>\n",
       "    </tr>\n",
       "    <tr>\n",
       "      <th>Irradiat</th>\n",
       "      <th></th>\n",
       "      <th></th>\n",
       "      <th></th>\n",
       "      <th></th>\n",
       "      <th></th>\n",
       "      <th></th>\n",
       "      <th></th>\n",
       "      <th></th>\n",
       "      <th></th>\n",
       "    </tr>\n",
       "  </thead>\n",
       "  <tbody>\n",
       "    <tr>\n",
       "      <th>no</th>\n",
       "      <td>213</td>\n",
       "      <td>213</td>\n",
       "      <td>213</td>\n",
       "      <td>213</td>\n",
       "      <td>213</td>\n",
       "      <td>213</td>\n",
       "      <td>213</td>\n",
       "      <td>213</td>\n",
       "      <td>213</td>\n",
       "    </tr>\n",
       "    <tr>\n",
       "      <th>yes</th>\n",
       "      <td>60</td>\n",
       "      <td>60</td>\n",
       "      <td>60</td>\n",
       "      <td>60</td>\n",
       "      <td>60</td>\n",
       "      <td>60</td>\n",
       "      <td>60</td>\n",
       "      <td>60</td>\n",
       "      <td>60</td>\n",
       "    </tr>\n",
       "  </tbody>\n",
       "</table>\n",
       "</div>"
      ],
      "text/plain": [
       "          Class  Age  Menopause  Tumor-size  Inv-nodes  Node-caps  Deg-malig  \\\n",
       "Irradiat                                                                       \n",
       "no          213  213        213         213        213        213        213   \n",
       "yes          60   60         60          60         60         60         60   \n",
       "\n",
       "          Breast  Breast-quad  \n",
       "Irradiat                       \n",
       "no           213          213  \n",
       "yes           60           60  "
      ]
     },
     "execution_count": 3,
     "metadata": {},
     "output_type": "execute_result"
    }
   ],
   "source": [
    "#####################33 counting each feature variable grouping by terget variable\n",
    "data.groupby(\"Irradiat\").count()"
   ]
  },
  {
   "cell_type": "code",
   "execution_count": 4,
   "id": "31843296",
   "metadata": {},
   "outputs": [
    {
     "data": {
      "text/plain": [
       "(273, 10)"
      ]
     },
     "execution_count": 4,
     "metadata": {},
     "output_type": "execute_result"
    }
   ],
   "source": [
    "data.shape"
   ]
  },
  {
   "cell_type": "code",
   "execution_count": 5,
   "id": "87407581",
   "metadata": {},
   "outputs": [
    {
     "name": "stdout",
     "output_type": "stream",
     "text": [
      "<class 'pandas.core.frame.DataFrame'>\n",
      "RangeIndex: 273 entries, 0 to 272\n",
      "Data columns (total 10 columns):\n",
      " #   Column       Non-Null Count  Dtype \n",
      "---  ------       --------------  ----- \n",
      " 0   Class        273 non-null    object\n",
      " 1   Age          273 non-null    object\n",
      " 2   Menopause    273 non-null    object\n",
      " 3   Tumor-size   273 non-null    object\n",
      " 4   Inv-nodes    273 non-null    object\n",
      " 5   Node-caps    273 non-null    object\n",
      " 6   Deg-malig    273 non-null    int64 \n",
      " 7   Breast       273 non-null    object\n",
      " 8   Breast-quad  273 non-null    object\n",
      " 9   Irradiat     273 non-null    object\n",
      "dtypes: int64(1), object(9)\n",
      "memory usage: 21.5+ KB\n"
     ]
    }
   ],
   "source": [
    "####################### checking if there is null value or not\n",
    "data.info()"
   ]
  },
  {
   "cell_type": "code",
   "execution_count": 109,
   "id": "d09abb1f",
   "metadata": {},
   "outputs": [
    {
     "data": {
      "text/plain": [
       "0.7802197802197802"
      ]
     },
     "execution_count": 109,
     "metadata": {},
     "output_type": "execute_result"
    }
   ],
   "source": [
    "################################ ratio of \"no\" class\n",
    "len(data[data[\"Irradiat\"]==\"no\"])/len(data)"
   ]
  },
  {
   "cell_type": "code",
   "execution_count": 6,
   "id": "7e5db672",
   "metadata": {},
   "outputs": [
    {
     "data": {
      "text/plain": [
       "0.21978021978021978"
      ]
     },
     "execution_count": 6,
     "metadata": {},
     "output_type": "execute_result"
    }
   ],
   "source": [
    "############################### ratio of \"yes\" class\n",
    "len(data[data[\"Irradiat\"]==\"yes\"])/len(data)      ##### since 0.21<<0.78,,so our data is imbalanced"
   ]
  },
  {
   "cell_type": "code",
   "execution_count": 7,
   "id": "861064f8",
   "metadata": {},
   "outputs": [
    {
     "data": {
      "text/plain": [
       "<AxesSubplot:xlabel='Tumor-size', ylabel='count'>"
      ]
     },
     "execution_count": 7,
     "metadata": {},
     "output_type": "execute_result"
    },
    {
     "data": {
      "image/png": "[encoded data removed]",
      "text/plain": [
       "<Figure size 432x288 with 1 Axes>"
      ]
     },
     "metadata": {
      "needs_background": "light"
     },
     "output_type": "display_data"
    }
   ],
   "source": [
    "############### countplot for tumor-size\n",
    "sns.countplot(x=\"Tumor-size\",data=data)\n",
    "### tumor size group 30-34 has heighest frequency"
   ]
  },
  {
   "cell_type": "code",
   "execution_count": 8,
   "id": "db2b4776",
   "metadata": {},
   "outputs": [
    {
     "data": {
      "image/png": "[encoded data removed]",
      "text/plain": [
       "<Figure size 432x288 with 4 Axes>"
      ]
     },
     "metadata": {
      "needs_background": "light"
     },
     "output_type": "display_data"
    }
   ],
   "source": [
    "################## countplot for class,node-caps,breast,deg-malig\n",
    "fig, axes = plt.subplots(2, 2)\n",
    "sns.countplot(x=\"Class\",data=data,ax=axes[0,0])\n",
    "sns.countplot(x=\"Node-caps\",data=data,ax=axes[0,1])\n",
    "sns.countplot(x=\"Breast\",data=data,ax=axes[1,0])\n",
    "sns.countplot(x=\"Deg-malig\",data=data,ax=axes[1,1])\n",
    "fig.tight_layout()"
   ]
  },
  {
   "cell_type": "code",
   "execution_count": 9,
   "id": "34e488e2",
   "metadata": {},
   "outputs": [
    {
     "data": {
      "text/plain": [
       "<AxesSubplot:xlabel='Age', ylabel='count'>"
      ]
     },
     "execution_count": 9,
     "metadata": {},
     "output_type": "execute_result"
    },
    {
     "data": {
      "image/png": "[encoded data removed]",
      "text/plain": [
       "<Figure size 432x288 with 1 Axes>"
      ]
     },
     "metadata": {
      "needs_background": "light"
     },
     "output_type": "display_data"
    }
   ],
   "source": [
    "################## countplot for age\n",
    "sns.countplot(x=\"Age\",data=data)\n",
    "#### 50-59 age group has heighest count"
   ]
  },
  {
   "cell_type": "code",
   "execution_count": 11,
   "id": "49d1158c",
   "metadata": {},
   "outputs": [
    {
     "data": {
      "text/plain": [
       "<AxesSubplot:xlabel='Inv-nodes', ylabel='count'>"
      ]
     },
     "execution_count": 11,
     "metadata": {},
     "output_type": "execute_result"
    },
    {
     "data": {
      "image/png": "[encoded data removed]",
      "text/plain": [
       "<Figure size 432x288 with 1 Axes>"
      ]
     },
     "metadata": {
      "needs_background": "light"
     },
     "output_type": "display_data"
    }
   ],
   "source": [
    "################ countplot for inv-nodes\n",
    "sns.countplot(x=\"Inv-nodes\",data=data)\n",
    "### Inv-nodes 0-2 has heighest count"
   ]
  },
  {
   "cell_type": "code",
   "execution_count": 19,
   "id": "53160b3a",
   "metadata": {},
   "outputs": [
    {
     "data": {
      "text/plain": [
       "<AxesSubplot:xlabel='Menopause', ylabel='count'>"
      ]
     },
     "execution_count": 19,
     "metadata": {},
     "output_type": "execute_result"
    },
    {
     "data": {
      "image/png": "[encoded data removed]",
      "text/plain": [
       "<Figure size 432x288 with 2 Axes>"
      ]
     },
     "metadata": {
      "needs_background": "light"
     },
     "output_type": "display_data"
    }
   ],
   "source": [
    "############ countplot for breast-quad and menopause\n",
    "plt.subplot(1,2,1)\n",
    "sns.countplot(x=\"Breast-quad\",data=data)\n",
    "plt.subplot(1,2,2)\n",
    "sns.countplot(x=\"Menopause\",data=data)"
   ]
  },
  {
   "cell_type": "code",
   "execution_count": 24,
   "id": "7126d8a7",
   "metadata": {},
   "outputs": [
    {
     "data": {
      "text/html": [
       "<div>\n",
       "<style scoped>\n",
       "    .dataframe tbody tr th:only-of-type {\n",
       "        vertical-align: middle;\n",
       "    }\n",
       "\n",
       "    .dataframe tbody tr th {\n",
       "        vertical-align: top;\n",
       "    }\n",
       "\n",
       "    .dataframe thead th {\n",
       "        text-align: right;\n",
       "    }\n",
       "</style>\n",
       "<table border=\"1\" class=\"dataframe\">\n",
       "  <thead>\n",
       "    <tr style=\"text-align: right;\">\n",
       "      <th></th>\n",
       "      <th>Class</th>\n",
       "      <th>Age</th>\n",
       "      <th>Menopause</th>\n",
       "      <th>Tumor-size</th>\n",
       "      <th>Inv-nodes</th>\n",
       "      <th>Node-caps</th>\n",
       "      <th>Deg-malig</th>\n",
       "      <th>Breast</th>\n",
       "      <th>Breast-quad</th>\n",
       "      <th>Irradiat</th>\n",
       "    </tr>\n",
       "  </thead>\n",
       "  <tbody>\n",
       "    <tr>\n",
       "      <th>0</th>\n",
       "      <td>no-recurrence-events</td>\n",
       "      <td>30-39</td>\n",
       "      <td>premeno</td>\n",
       "      <td>30-34</td>\n",
       "      <td>0-2</td>\n",
       "      <td>no</td>\n",
       "      <td>3</td>\n",
       "      <td>left</td>\n",
       "      <td>left_low</td>\n",
       "      <td>no</td>\n",
       "    </tr>\n",
       "    <tr>\n",
       "      <th>1</th>\n",
       "      <td>no-recurrence-events</td>\n",
       "      <td>40-49</td>\n",
       "      <td>premeno</td>\n",
       "      <td>20-24</td>\n",
       "      <td>0-2</td>\n",
       "      <td>no</td>\n",
       "      <td>2</td>\n",
       "      <td>right</td>\n",
       "      <td>right_up</td>\n",
       "      <td>no</td>\n",
       "    </tr>\n",
       "    <tr>\n",
       "      <th>2</th>\n",
       "      <td>no-recurrence-events</td>\n",
       "      <td>40-49</td>\n",
       "      <td>premeno</td>\n",
       "      <td>20-24</td>\n",
       "      <td>0-2</td>\n",
       "      <td>no</td>\n",
       "      <td>2</td>\n",
       "      <td>left</td>\n",
       "      <td>left_low</td>\n",
       "      <td>no</td>\n",
       "    </tr>\n",
       "    <tr>\n",
       "      <th>3</th>\n",
       "      <td>no-recurrence-events</td>\n",
       "      <td>60-69</td>\n",
       "      <td>ge40</td>\n",
       "      <td>15-19</td>\n",
       "      <td>0-2</td>\n",
       "      <td>no</td>\n",
       "      <td>2</td>\n",
       "      <td>right</td>\n",
       "      <td>left_up</td>\n",
       "      <td>no</td>\n",
       "    </tr>\n",
       "    <tr>\n",
       "      <th>4</th>\n",
       "      <td>no-recurrence-events</td>\n",
       "      <td>40-49</td>\n",
       "      <td>premeno</td>\n",
       "      <td>0-4</td>\n",
       "      <td>0-2</td>\n",
       "      <td>no</td>\n",
       "      <td>2</td>\n",
       "      <td>right</td>\n",
       "      <td>right_low</td>\n",
       "      <td>no</td>\n",
       "    </tr>\n",
       "  </tbody>\n",
       "</table>\n",
       "</div>"
      ],
      "text/plain": [
       "                  Class    Age Menopause Tumor-size Inv-nodes Node-caps  \\\n",
       "0  no-recurrence-events  30-39   premeno      30-34       0-2        no   \n",
       "1  no-recurrence-events  40-49   premeno      20-24       0-2        no   \n",
       "2  no-recurrence-events  40-49   premeno      20-24       0-2        no   \n",
       "3  no-recurrence-events  60-69      ge40      15-19       0-2        no   \n",
       "4  no-recurrence-events  40-49   premeno        0-4       0-2        no   \n",
       "\n",
       "   Deg-malig Breast Breast-quad Irradiat  \n",
       "0          3   left    left_low       no  \n",
       "1          2  right    right_up       no  \n",
       "2          2   left    left_low       no  \n",
       "3          2  right     left_up       no  \n",
       "4          2  right   right_low       no  "
      ]
     },
     "execution_count": 24,
     "metadata": {},
     "output_type": "execute_result"
    }
   ],
   "source": [
    "########## dataframe with Irradiat=\"no\" case\n",
    "data_no=data[data[\"Irradiat\"]==\"no\"]\n",
    "data_no.head()"
   ]
  },
  {
   "cell_type": "code",
   "execution_count": 25,
   "id": "1f04011c",
   "metadata": {},
   "outputs": [
    {
     "data": {
      "text/html": [
       "<div>\n",
       "<style scoped>\n",
       "    .dataframe tbody tr th:only-of-type {\n",
       "        vertical-align: middle;\n",
       "    }\n",
       "\n",
       "    .dataframe tbody tr th {\n",
       "        vertical-align: top;\n",
       "    }\n",
       "\n",
       "    .dataframe thead th {\n",
       "        text-align: right;\n",
       "    }\n",
       "</style>\n",
       "<table border=\"1\" class=\"dataframe\">\n",
       "  <thead>\n",
       "    <tr style=\"text-align: right;\">\n",
       "      <th></th>\n",
       "      <th>Class</th>\n",
       "      <th>Age</th>\n",
       "      <th>Menopause</th>\n",
       "      <th>Tumor-size</th>\n",
       "      <th>Inv-nodes</th>\n",
       "      <th>Node-caps</th>\n",
       "      <th>Deg-malig</th>\n",
       "      <th>Breast</th>\n",
       "      <th>Breast-quad</th>\n",
       "      <th>Irradiat</th>\n",
       "    </tr>\n",
       "  </thead>\n",
       "  <tbody>\n",
       "    <tr>\n",
       "      <th>127</th>\n",
       "      <td>no-recurrence-events</td>\n",
       "      <td>40-49</td>\n",
       "      <td>premeno</td>\n",
       "      <td>5-9</td>\n",
       "      <td>0-2</td>\n",
       "      <td>no</td>\n",
       "      <td>1</td>\n",
       "      <td>left</td>\n",
       "      <td>left_low</td>\n",
       "      <td>yes</td>\n",
       "    </tr>\n",
       "    <tr>\n",
       "      <th>128</th>\n",
       "      <td>no-recurrence-events</td>\n",
       "      <td>30-39</td>\n",
       "      <td>premeno</td>\n",
       "      <td>40-44</td>\n",
       "      <td>0-2</td>\n",
       "      <td>no</td>\n",
       "      <td>2</td>\n",
       "      <td>left</td>\n",
       "      <td>left_low</td>\n",
       "      <td>yes</td>\n",
       "    </tr>\n",
       "    <tr>\n",
       "      <th>133</th>\n",
       "      <td>no-recurrence-events</td>\n",
       "      <td>40-49</td>\n",
       "      <td>premeno</td>\n",
       "      <td>45-49</td>\n",
       "      <td>0-2</td>\n",
       "      <td>no</td>\n",
       "      <td>2</td>\n",
       "      <td>left</td>\n",
       "      <td>left_low</td>\n",
       "      <td>yes</td>\n",
       "    </tr>\n",
       "    <tr>\n",
       "      <th>135</th>\n",
       "      <td>no-recurrence-events</td>\n",
       "      <td>40-49</td>\n",
       "      <td>premeno</td>\n",
       "      <td>25-29</td>\n",
       "      <td>0-2</td>\n",
       "      <td>?</td>\n",
       "      <td>2</td>\n",
       "      <td>left</td>\n",
       "      <td>right_low</td>\n",
       "      <td>yes</td>\n",
       "    </tr>\n",
       "    <tr>\n",
       "      <th>136</th>\n",
       "      <td>no-recurrence-events</td>\n",
       "      <td>60-69</td>\n",
       "      <td>ge40</td>\n",
       "      <td>50-54</td>\n",
       "      <td>0-2</td>\n",
       "      <td>no</td>\n",
       "      <td>2</td>\n",
       "      <td>right</td>\n",
       "      <td>left_up</td>\n",
       "      <td>yes</td>\n",
       "    </tr>\n",
       "  </tbody>\n",
       "</table>\n",
       "</div>"
      ],
      "text/plain": [
       "                    Class    Age Menopause Tumor-size Inv-nodes Node-caps  \\\n",
       "127  no-recurrence-events  40-49   premeno        5-9       0-2        no   \n",
       "128  no-recurrence-events  30-39   premeno      40-44       0-2        no   \n",
       "133  no-recurrence-events  40-49   premeno      45-49       0-2        no   \n",
       "135  no-recurrence-events  40-49   premeno      25-29       0-2         ?   \n",
       "136  no-recurrence-events  60-69      ge40      50-54       0-2        no   \n",
       "\n",
       "     Deg-malig Breast Breast-quad Irradiat  \n",
       "127          1   left    left_low      yes  \n",
       "128          2   left    left_low      yes  \n",
       "133          2   left    left_low      yes  \n",
       "135          2   left   right_low      yes  \n",
       "136          2  right     left_up      yes  "
      ]
     },
     "execution_count": 25,
     "metadata": {},
     "output_type": "execute_result"
    }
   ],
   "source": [
    "########## dataframe with Irradiat=\"yes\" case\n",
    "data_yes=data[data[\"Irradiat\"]==\"yes\"]\n",
    "data_yes.head()"
   ]
  },
  {
   "cell_type": "code",
   "execution_count": 27,
   "id": "f2781137",
   "metadata": {},
   "outputs": [
    {
     "data": {
      "image/png": "[encoded data removed]",
      "text/plain": [
       "<Figure size 432x288 with 2 Axes>"
      ]
     },
     "metadata": {},
     "output_type": "display_data"
    }
   ],
   "source": [
    "############## visulizing from each levels of age how many are in \"yes\" and \"no\" class for Irradiat\n",
    "age_with_irradiat_yes = (data_yes.groupby([\"Age\"]).count()[\"Irradiat\"]/data_yes.groupby([\"Age\"]).count()[\"Irradiat\"].sum())\n",
    "age_with_irradiat_no = (data_no.groupby([\"Age\"]).count()[\"Irradiat\"]/data_no.groupby([\"Age\"]).count()[\"Irradiat\"].sum())\n",
    "fig = plt.figure()\n",
    "ax1 = fig.add_axes([0, 0, .5, .5], aspect=1)\n",
    "ax1.pie(age_with_irradiat_yes.values, labels=age_with_irradiat_yes.index, radius = 1.2)\n",
    "ax2 = fig.add_axes([1, .0, .5, .5], aspect=1)\n",
    "ax2.pie(age_with_irradiat_no.values, labels=age_with_irradiat_no.index, radius = 1.2)\n",
    "ax1.set_title('age with irradiat')\n",
    "ax2.set_title('age with no irradiat')\n",
    "plt.show()"
   ]
  },
  {
   "cell_type": "code",
   "execution_count": 30,
   "id": "f2b78be8",
   "metadata": {},
   "outputs": [
    {
     "data": {
      "image/png": "[encoded data removed]",
      "text/plain": [
       "<Figure size 432x288 with 2 Axes>"
      ]
     },
     "metadata": {},
     "output_type": "display_data"
    }
   ],
   "source": [
    "############## visulizing from each levels of tumor-size how many are in \"yes\" and \"no\" class for Irradiat\n",
    "tumor_size_with_irradiat_yes = (data_yes.groupby([\"Tumor-size\"]).count()[\"Irradiat\"]/data_yes.groupby([\"Tumor-size\"]).count()[\"Irradiat\"].sum())\n",
    "tumor_size_with_irradiat_no = (data_no.groupby([\"Tumor-size\"]).count()[\"Irradiat\"]/data_no.groupby([\"Tumor-size\"]).count()[\"Irradiat\"].sum())\n",
    "fig = plt.figure()\n",
    "ax1 = fig.add_axes([0, 0, .5, .5], aspect=1)\n",
    "ax1.pie(age_with_irradiat_yes.values, labels=age_with_irradiat_yes.index, radius = 1.2)\n",
    "ax2 = fig.add_axes([1, .0, .5, .5], aspect=1)\n",
    "ax2.pie(age_with_irradiat_no.values, labels=age_with_irradiat_no.index, radius = 1.2)\n",
    "ax1.set_title('tumor-size with irradiat')\n",
    "ax2.set_title('tumor-size with no irradiat')\n",
    "plt.show()"
   ]
  },
  {
   "cell_type": "code",
   "execution_count": 31,
   "id": "dc8a65af",
   "metadata": {},
   "outputs": [
    {
     "data": {
      "image/png": "[encoded data removed]",
      "text/plain": [
       "<Figure size 432x288 with 2 Axes>"
      ]
     },
     "metadata": {},
     "output_type": "display_data"
    }
   ],
   "source": [
    "############## visulizing from each levels of inv_nodes how many are in \"yes\" and \"no\" class for Irradiat\n",
    "inv_nodes_with_irradiat_yes = (data_yes.groupby([\"Inv-nodes\"]).count()[\"Irradiat\"]/data_yes.groupby([\"Inv-nodes\"]).count()[\"Irradiat\"].sum())\n",
    "inv_nodes_with_irradiat_no = (data_no.groupby([\"Inv-nodes\"]).count()[\"Irradiat\"]/data_no.groupby([\"Inv-nodes\"]).count()[\"Irradiat\"].sum())\n",
    "fig = plt.figure()\n",
    "ax1 = fig.add_axes([0, 0, .5, .5], aspect=1)\n",
    "ax1.pie(inv_nodes_with_irradiat_yes.values, labels=inv_nodes_with_irradiat_yes.index, radius = 1.2)\n",
    "ax2 = fig.add_axes([1, .0, .5, .5], aspect=1)\n",
    "ax2.pie(inv_nodes_with_irradiat_no.values, labels=inv_nodes_with_irradiat_no.index, radius = 1.2)\n",
    "ax1.set_title('inv-nodes with irradiat')\n",
    "ax2.set_title('inv-nodes with no  irradiat')\n",
    "plt.show()"
   ]
  },
  {
   "cell_type": "code",
   "execution_count": 32,
   "id": "d523b1f2",
   "metadata": {},
   "outputs": [
    {
     "data": {
      "image/png": "[encoded data removed]",
      "text/plain": [
       "<Figure size 432x288 with 2 Axes>"
      ]
     },
     "metadata": {},
     "output_type": "display_data"
    }
   ],
   "source": [
    "############## visulizing from each levels of de-malig-size how many are in \"yes\" and \"no\" class for Irradiat\n",
    "de_malig_size_with_irradiat_yes = (data_yes.groupby([\"Deg-malig\"]).count()[\"Irradiat\"]/data_yes.groupby([\"Deg-malig\"]).count()[\"Irradiat\"].sum())\n",
    "de_malig_size_with_irradiat_no = (data_no.groupby([\"Deg-malig\"]).count()[\"Irradiat\"]/data_no.groupby([\"Deg-malig\"]).count()[\"Irradiat\"].sum())\n",
    "fig = plt.figure()\n",
    "ax1 = fig.add_axes([0, 0, .5, .5], aspect=1)\n",
    "ax1.pie(de_malig_size_with_irradiat_yes.values, labels=de_malig_size_with_irradiat_yes.index, radius = 1.2)\n",
    "ax2 = fig.add_axes([1, .0, .5, .5], aspect=1)\n",
    "ax2.pie(de_malig_size_with_irradiat_no.values, labels=de_malig_size_with_irradiat_no.index, radius = 1.2)\n",
    "ax1.set_title('de_malig_size with irradiat')\n",
    "ax2.set_title('de_malig_size with no  irradiat')\n",
    "plt.show()"
   ]
  },
  {
   "cell_type": "code",
   "execution_count": 33,
   "id": "5b50478d",
   "metadata": {},
   "outputs": [
    {
     "data": {
      "text/plain": [
       "array(['no-recurrence-events', 'recurrence-events'], dtype=object)"
      ]
     },
     "execution_count": 33,
     "metadata": {},
     "output_type": "execute_result"
    }
   ],
   "source": [
    "########## checking unique attributes of each column\n",
    "data[\"Class\"].unique()"
   ]
  },
  {
   "cell_type": "code",
   "execution_count": 34,
   "id": "bc433a71",
   "metadata": {},
   "outputs": [
    {
     "data": {
      "text/plain": [
       "array(['30-39', '40-49', '60-69', '50-59', '70-79', '20-29'], dtype=object)"
      ]
     },
     "execution_count": 34,
     "metadata": {},
     "output_type": "execute_result"
    }
   ],
   "source": [
    "data[\"Age\"].unique()"
   ]
  },
  {
   "cell_type": "code",
   "execution_count": 35,
   "id": "d9080b36",
   "metadata": {},
   "outputs": [
    {
     "data": {
      "text/plain": [
       "array(['premeno', 'ge40', 'lt40'], dtype=object)"
      ]
     },
     "execution_count": 35,
     "metadata": {},
     "output_type": "execute_result"
    }
   ],
   "source": [
    "data[\"Menopause\"].unique()"
   ]
  },
  {
   "cell_type": "code",
   "execution_count": 36,
   "id": "b97349d7",
   "metadata": {},
   "outputs": [
    {
     "data": {
      "text/plain": [
       "array(['30-34', '20-24', '15-19', '0-4', '25-29', '50-54', '10-14',\n",
       "       '40-44', '35-39', '5-9', '45-49'], dtype=object)"
      ]
     },
     "execution_count": 36,
     "metadata": {},
     "output_type": "execute_result"
    }
   ],
   "source": [
    "data[\"Tumor-size\"].unique()"
   ]
  },
  {
   "cell_type": "code",
   "execution_count": 37,
   "id": "7624d3c7",
   "metadata": {},
   "outputs": [
    {
     "data": {
      "text/plain": [
       "array(['0-2', '6-8', '3-5', '15-17', '9-11', '12-14', '24-26'],\n",
       "      dtype=object)"
      ]
     },
     "execution_count": 37,
     "metadata": {},
     "output_type": "execute_result"
    }
   ],
   "source": [
    "data[\"Inv-nodes\"].unique()"
   ]
  },
  {
   "cell_type": "code",
   "execution_count": 38,
   "id": "d5dc2e3a",
   "metadata": {},
   "outputs": [
    {
     "data": {
      "text/plain": [
       "array(['no', 'yes', '?'], dtype=object)"
      ]
     },
     "execution_count": 38,
     "metadata": {},
     "output_type": "execute_result"
    }
   ],
   "source": [
    "data[\"Node-caps\"].unique()   ##### \"Node-caps\" column contains ?"
   ]
  },
  {
   "cell_type": "code",
   "execution_count": 39,
   "id": "f1a7cd24",
   "metadata": {},
   "outputs": [
    {
     "data": {
      "text/plain": [
       "array([3, 2, 1], dtype=int64)"
      ]
     },
     "execution_count": 39,
     "metadata": {},
     "output_type": "execute_result"
    }
   ],
   "source": [
    "data[\"Deg-malig\"].unique()"
   ]
  },
  {
   "cell_type": "code",
   "execution_count": 40,
   "id": "caf5429b",
   "metadata": {},
   "outputs": [
    {
     "data": {
      "text/plain": [
       "array(['left', 'right'], dtype=object)"
      ]
     },
     "execution_count": 40,
     "metadata": {},
     "output_type": "execute_result"
    }
   ],
   "source": [
    "data[\"Breast\"].unique()"
   ]
  },
  {
   "cell_type": "code",
   "execution_count": 41,
   "id": "a524eb53",
   "metadata": {},
   "outputs": [
    {
     "data": {
      "text/plain": [
       "array(['left_low', 'right_up', 'left_up', 'right_low', 'central', '?'],\n",
       "      dtype=object)"
      ]
     },
     "execution_count": 41,
     "metadata": {},
     "output_type": "execute_result"
    }
   ],
   "source": [
    "data[\"Breast-quad\"].unique()   ### \"Breast-quad\" column contains ?"
   ]
  },
  {
   "cell_type": "code",
   "execution_count": 42,
   "id": "f5032676",
   "metadata": {},
   "outputs": [
    {
     "data": {
      "text/plain": [
       "array(['no', 'yes'], dtype=object)"
      ]
     },
     "execution_count": 42,
     "metadata": {},
     "output_type": "execute_result"
    }
   ],
   "source": [
    "data[\"Irradiat\"].unique()"
   ]
  },
  {
   "cell_type": "code",
   "execution_count": 43,
   "id": "cd8b807d",
   "metadata": {},
   "outputs": [
    {
     "name": "stdout",
     "output_type": "stream",
     "text": [
      "                    Class    Age Menopause Tumor-size Inv-nodes Node-caps  \\\n",
      "135  no-recurrence-events  40-49   premeno      25-29       0-2         ?   \n",
      "153  no-recurrence-events  60-69      ge40      25-29       3-5         ?   \n",
      "172  no-recurrence-events  50-59      ge40      30-34      9-11         ?   \n",
      "194     recurrence-events  50-59      ge40      30-34       0-2        no   \n",
      "221     recurrence-events  70-79      ge40      15-19      9-11         ?   \n",
      "251     recurrence-events  50-59      lt40      20-24       0-2         ?   \n",
      "\n",
      "     Deg-malig Breast Breast-quad Irradiat  \n",
      "135          2   left   right_low      yes  \n",
      "153          1  right    left_low      yes  \n",
      "172          3   left    left_low      yes  \n",
      "194          3   left           ?       no  \n",
      "221          1   left    left_low      yes  \n",
      "251          1   left    left_low       no  \n"
     ]
    }
   ],
   "source": [
    "###### visualizing rows with ?\n",
    "print(data[data[\"Node-caps\"].str.contains(r'[?]') |\n",
    "         data[\"Breast-quad\"].str.contains(r'[?]') ])   "
   ]
  },
  {
   "cell_type": "code",
   "execution_count": 44,
   "id": "f7d36795",
   "metadata": {},
   "outputs": [
    {
     "data": {
      "text/html": [
       "<div>\n",
       "<style scoped>\n",
       "    .dataframe tbody tr th:only-of-type {\n",
       "        vertical-align: middle;\n",
       "    }\n",
       "\n",
       "    .dataframe tbody tr th {\n",
       "        vertical-align: top;\n",
       "    }\n",
       "\n",
       "    .dataframe thead th {\n",
       "        text-align: right;\n",
       "    }\n",
       "</style>\n",
       "<table border=\"1\" class=\"dataframe\">\n",
       "  <thead>\n",
       "    <tr style=\"text-align: right;\">\n",
       "      <th></th>\n",
       "      <th>Class</th>\n",
       "      <th>Age</th>\n",
       "      <th>Menopause</th>\n",
       "      <th>Tumor-size</th>\n",
       "      <th>Inv-nodes</th>\n",
       "      <th>Node-caps</th>\n",
       "      <th>Deg-malig</th>\n",
       "      <th>Breast</th>\n",
       "      <th>Breast-quad</th>\n",
       "      <th>Irradiat</th>\n",
       "    </tr>\n",
       "  </thead>\n",
       "  <tbody>\n",
       "    <tr>\n",
       "      <th>0</th>\n",
       "      <td>no-recurrence-events</td>\n",
       "      <td>30-39</td>\n",
       "      <td>premeno</td>\n",
       "      <td>30-34</td>\n",
       "      <td>0-2</td>\n",
       "      <td>no</td>\n",
       "      <td>3</td>\n",
       "      <td>left</td>\n",
       "      <td>left_low</td>\n",
       "      <td>no</td>\n",
       "    </tr>\n",
       "    <tr>\n",
       "      <th>1</th>\n",
       "      <td>no-recurrence-events</td>\n",
       "      <td>40-49</td>\n",
       "      <td>premeno</td>\n",
       "      <td>20-24</td>\n",
       "      <td>0-2</td>\n",
       "      <td>no</td>\n",
       "      <td>2</td>\n",
       "      <td>right</td>\n",
       "      <td>right_up</td>\n",
       "      <td>no</td>\n",
       "    </tr>\n",
       "    <tr>\n",
       "      <th>2</th>\n",
       "      <td>no-recurrence-events</td>\n",
       "      <td>40-49</td>\n",
       "      <td>premeno</td>\n",
       "      <td>20-24</td>\n",
       "      <td>0-2</td>\n",
       "      <td>no</td>\n",
       "      <td>2</td>\n",
       "      <td>left</td>\n",
       "      <td>left_low</td>\n",
       "      <td>no</td>\n",
       "    </tr>\n",
       "    <tr>\n",
       "      <th>3</th>\n",
       "      <td>no-recurrence-events</td>\n",
       "      <td>60-69</td>\n",
       "      <td>ge40</td>\n",
       "      <td>15-19</td>\n",
       "      <td>0-2</td>\n",
       "      <td>no</td>\n",
       "      <td>2</td>\n",
       "      <td>right</td>\n",
       "      <td>left_up</td>\n",
       "      <td>no</td>\n",
       "    </tr>\n",
       "    <tr>\n",
       "      <th>4</th>\n",
       "      <td>no-recurrence-events</td>\n",
       "      <td>40-49</td>\n",
       "      <td>premeno</td>\n",
       "      <td>0-4</td>\n",
       "      <td>0-2</td>\n",
       "      <td>no</td>\n",
       "      <td>2</td>\n",
       "      <td>right</td>\n",
       "      <td>right_low</td>\n",
       "      <td>no</td>\n",
       "    </tr>\n",
       "  </tbody>\n",
       "</table>\n",
       "</div>"
      ],
      "text/plain": [
       "                  Class    Age Menopause Tumor-size Inv-nodes Node-caps  \\\n",
       "0  no-recurrence-events  30-39   premeno      30-34       0-2        no   \n",
       "1  no-recurrence-events  40-49   premeno      20-24       0-2        no   \n",
       "2  no-recurrence-events  40-49   premeno      20-24       0-2        no   \n",
       "3  no-recurrence-events  60-69      ge40      15-19       0-2        no   \n",
       "4  no-recurrence-events  40-49   premeno        0-4       0-2        no   \n",
       "\n",
       "   Deg-malig Breast Breast-quad Irradiat  \n",
       "0          3   left    left_low       no  \n",
       "1          2  right    right_up       no  \n",
       "2          2   left    left_low       no  \n",
       "3          2  right     left_up       no  \n",
       "4          2  right   right_low       no  "
      ]
     },
     "execution_count": 44,
     "metadata": {},
     "output_type": "execute_result"
    }
   ],
   "source": [
    "#### droping rows with ?\n",
    "data_drop=(data.drop(data[data[\"Node-caps\"].str.contains(r'[?]') |\n",
    "         data[\"Breast-quad\"].str.contains(r'[?]') ].index))\n",
    "data_drop.head()"
   ]
  },
  {
   "cell_type": "code",
   "execution_count": 45,
   "id": "1527bb9c",
   "metadata": {},
   "outputs": [
    {
     "data": {
      "text/html": [
       "<div>\n",
       "<style scoped>\n",
       "    .dataframe tbody tr th:only-of-type {\n",
       "        vertical-align: middle;\n",
       "    }\n",
       "\n",
       "    .dataframe tbody tr th {\n",
       "        vertical-align: top;\n",
       "    }\n",
       "\n",
       "    .dataframe thead th {\n",
       "        text-align: right;\n",
       "    }\n",
       "</style>\n",
       "<table border=\"1\" class=\"dataframe\">\n",
       "  <thead>\n",
       "    <tr style=\"text-align: right;\">\n",
       "      <th></th>\n",
       "      <th>Class</th>\n",
       "      <th>Age</th>\n",
       "      <th>Menopause</th>\n",
       "      <th>Tumor-size</th>\n",
       "      <th>Inv-nodes</th>\n",
       "      <th>Node-caps</th>\n",
       "      <th>Breast</th>\n",
       "      <th>Breast-quad</th>\n",
       "      <th>Deg-malig</th>\n",
       "    </tr>\n",
       "  </thead>\n",
       "  <tbody>\n",
       "    <tr>\n",
       "      <th>0</th>\n",
       "      <td>0</td>\n",
       "      <td>1</td>\n",
       "      <td>1</td>\n",
       "      <td>1</td>\n",
       "      <td>1</td>\n",
       "      <td>1</td>\n",
       "      <td>0</td>\n",
       "      <td>0</td>\n",
       "      <td>3</td>\n",
       "    </tr>\n",
       "    <tr>\n",
       "      <th>1</th>\n",
       "      <td>0</td>\n",
       "      <td>2</td>\n",
       "      <td>1</td>\n",
       "      <td>2</td>\n",
       "      <td>1</td>\n",
       "      <td>1</td>\n",
       "      <td>1</td>\n",
       "      <td>1</td>\n",
       "      <td>2</td>\n",
       "    </tr>\n",
       "    <tr>\n",
       "      <th>2</th>\n",
       "      <td>0</td>\n",
       "      <td>2</td>\n",
       "      <td>1</td>\n",
       "      <td>2</td>\n",
       "      <td>1</td>\n",
       "      <td>1</td>\n",
       "      <td>0</td>\n",
       "      <td>0</td>\n",
       "      <td>2</td>\n",
       "    </tr>\n",
       "    <tr>\n",
       "      <th>3</th>\n",
       "      <td>0</td>\n",
       "      <td>3</td>\n",
       "      <td>2</td>\n",
       "      <td>3</td>\n",
       "      <td>1</td>\n",
       "      <td>1</td>\n",
       "      <td>1</td>\n",
       "      <td>2</td>\n",
       "      <td>2</td>\n",
       "    </tr>\n",
       "    <tr>\n",
       "      <th>4</th>\n",
       "      <td>0</td>\n",
       "      <td>2</td>\n",
       "      <td>1</td>\n",
       "      <td>4</td>\n",
       "      <td>1</td>\n",
       "      <td>1</td>\n",
       "      <td>1</td>\n",
       "      <td>3</td>\n",
       "      <td>2</td>\n",
       "    </tr>\n",
       "  </tbody>\n",
       "</table>\n",
       "</div>"
      ],
      "text/plain": [
       "   Class  Age  Menopause  Tumor-size  Inv-nodes  Node-caps  Breast  \\\n",
       "0      0    1          1           1          1          1       0   \n",
       "1      0    2          1           2          1          1       1   \n",
       "2      0    2          1           2          1          1       0   \n",
       "3      0    3          2           3          1          1       1   \n",
       "4      0    2          1           4          1          1       1   \n",
       "\n",
       "   Breast-quad  Deg-malig  \n",
       "0            0          3  \n",
       "1            1          2  \n",
       "2            0          2  \n",
       "3            2          2  \n",
       "4            3          2  "
      ]
     },
     "execution_count": 45,
     "metadata": {},
     "output_type": "execute_result"
    }
   ],
   "source": [
    "############## changing categorical to numerical values\n",
    "data1=pd.DataFrame()\n",
    "class_mapper={'no-recurrence-events':0,'recurrence-events':1}\n",
    "data1[\"Class\"] =data_drop[\"Class\"].replace(class_mapper)\n",
    "age_mapper={'30-39':1, '40-49':2, '60-69':3, '50-59':4, '70-79':5, '20-29':6}\n",
    "data1[\"Age\"]=data_drop[\"Age\"].replace(age_mapper)\n",
    "menopause_mapper={'premeno':1, 'ge40':2, 'lt40':3}\n",
    "data1[\"Menopause\"]=data_drop[\"Menopause\"].replace(menopause_mapper)\n",
    "tumor_size_mapper={'30-34':1, '20-24':2, '15-19':3, '0-4':4, '25-29':5, '50-54':6, '10-14':7,\n",
    "       '40-44':8, '35-39':9, '5-9':10, '45-49':11}\n",
    "data1[\"Tumor-size\"]=data_drop[\"Tumor-size\"].replace(tumor_size_mapper)\n",
    "inv_nodes_mapper={'0-2':1, '6-8':2, '3-5':3, '15-17':4, '9-11':5, '12-14':6, '24-26':7}\n",
    "data1[\"Inv-nodes\"]=data_drop[\"Inv-nodes\"].replace(inv_nodes_mapper)\n",
    "nodes_caps_mapper={'yes':0,'no':1}\n",
    "data1[\"Node-caps\"]=data_drop[\"Node-caps\"].replace(nodes_caps_mapper)\n",
    "breast_mapper={'left':0,'right':1}\n",
    "data1[\"Breast\"]=data_drop[\"Breast\"].replace(breast_mapper)\n",
    "breast_quad_mapper={'left_low':0, 'right_up':1, 'left_up':2, 'right_low':3, 'central':4}\n",
    "data1[\"Breast-quad\"]=data_drop[\"Breast-quad\"].replace(breast_quad_mapper)\n",
    "data1[\"Deg-malig\"]=data_drop[\"Deg-malig\"]\n",
    "data1.head()"
   ]
  },
  {
   "cell_type": "code",
   "execution_count": 46,
   "id": "de08757a",
   "metadata": {},
   "outputs": [
    {
     "data": {
      "text/plain": [
       "(267, 9)"
      ]
     },
     "execution_count": 46,
     "metadata": {},
     "output_type": "execute_result"
    }
   ],
   "source": [
    "data1.shape"
   ]
  },
  {
   "cell_type": "code",
   "execution_count": 47,
   "id": "715313a6",
   "metadata": {},
   "outputs": [],
   "source": [
    "###### creating dummy variable for each categorical variable\n",
    "data_drop_dummy=pd.get_dummies(data1,columns=[\"Class\",\"Age\",\"Menopause\",\"Tumor-size\",\"Inv-nodes\",\"Node-caps\",\"Breast\",\"Breast-quad\"],drop_first=True)"
   ]
  },
  {
   "cell_type": "code",
   "execution_count": 48,
   "id": "4105469f",
   "metadata": {},
   "outputs": [
    {
     "data": {
      "text/plain": [
       "(267, 31)"
      ]
     },
     "execution_count": 48,
     "metadata": {},
     "output_type": "execute_result"
    }
   ],
   "source": [
    "data_drop_dummy.shape"
   ]
  },
  {
   "cell_type": "code",
   "execution_count": 49,
   "id": "478915db",
   "metadata": {},
   "outputs": [
    {
     "data": {
      "text/html": [
       "<div>\n",
       "<style scoped>\n",
       "    .dataframe tbody tr th:only-of-type {\n",
       "        vertical-align: middle;\n",
       "    }\n",
       "\n",
       "    .dataframe tbody tr th {\n",
       "        vertical-align: top;\n",
       "    }\n",
       "\n",
       "    .dataframe thead th {\n",
       "        text-align: right;\n",
       "    }\n",
       "</style>\n",
       "<table border=\"1\" class=\"dataframe\">\n",
       "  <thead>\n",
       "    <tr style=\"text-align: right;\">\n",
       "      <th></th>\n",
       "      <th>Deg-malig</th>\n",
       "      <th>Class_1</th>\n",
       "      <th>Age_2</th>\n",
       "      <th>Age_3</th>\n",
       "      <th>Age_4</th>\n",
       "      <th>Age_5</th>\n",
       "      <th>Age_6</th>\n",
       "      <th>Menopause_2</th>\n",
       "      <th>Menopause_3</th>\n",
       "      <th>Tumor-size_2</th>\n",
       "      <th>...</th>\n",
       "      <th>Inv-nodes_4</th>\n",
       "      <th>Inv-nodes_5</th>\n",
       "      <th>Inv-nodes_6</th>\n",
       "      <th>Inv-nodes_7</th>\n",
       "      <th>Node-caps_1</th>\n",
       "      <th>Breast_1</th>\n",
       "      <th>Breast-quad_1</th>\n",
       "      <th>Breast-quad_2</th>\n",
       "      <th>Breast-quad_3</th>\n",
       "      <th>Breast-quad_4</th>\n",
       "    </tr>\n",
       "  </thead>\n",
       "  <tbody>\n",
       "    <tr>\n",
       "      <th>0</th>\n",
       "      <td>3</td>\n",
       "      <td>0</td>\n",
       "      <td>0</td>\n",
       "      <td>0</td>\n",
       "      <td>0</td>\n",
       "      <td>0</td>\n",
       "      <td>0</td>\n",
       "      <td>0</td>\n",
       "      <td>0</td>\n",
       "      <td>0</td>\n",
       "      <td>...</td>\n",
       "      <td>0</td>\n",
       "      <td>0</td>\n",
       "      <td>0</td>\n",
       "      <td>0</td>\n",
       "      <td>1</td>\n",
       "      <td>0</td>\n",
       "      <td>0</td>\n",
       "      <td>0</td>\n",
       "      <td>0</td>\n",
       "      <td>0</td>\n",
       "    </tr>\n",
       "    <tr>\n",
       "      <th>1</th>\n",
       "      <td>2</td>\n",
       "      <td>0</td>\n",
       "      <td>1</td>\n",
       "      <td>0</td>\n",
       "      <td>0</td>\n",
       "      <td>0</td>\n",
       "      <td>0</td>\n",
       "      <td>0</td>\n",
       "      <td>0</td>\n",
       "      <td>1</td>\n",
       "      <td>...</td>\n",
       "      <td>0</td>\n",
       "      <td>0</td>\n",
       "      <td>0</td>\n",
       "      <td>0</td>\n",
       "      <td>1</td>\n",
       "      <td>1</td>\n",
       "      <td>1</td>\n",
       "      <td>0</td>\n",
       "      <td>0</td>\n",
       "      <td>0</td>\n",
       "    </tr>\n",
       "    <tr>\n",
       "      <th>2</th>\n",
       "      <td>2</td>\n",
       "      <td>0</td>\n",
       "      <td>1</td>\n",
       "      <td>0</td>\n",
       "      <td>0</td>\n",
       "      <td>0</td>\n",
       "      <td>0</td>\n",
       "      <td>0</td>\n",
       "      <td>0</td>\n",
       "      <td>1</td>\n",
       "      <td>...</td>\n",
       "      <td>0</td>\n",
       "      <td>0</td>\n",
       "      <td>0</td>\n",
       "      <td>0</td>\n",
       "      <td>1</td>\n",
       "      <td>0</td>\n",
       "      <td>0</td>\n",
       "      <td>0</td>\n",
       "      <td>0</td>\n",
       "      <td>0</td>\n",
       "    </tr>\n",
       "    <tr>\n",
       "      <th>3</th>\n",
       "      <td>2</td>\n",
       "      <td>0</td>\n",
       "      <td>0</td>\n",
       "      <td>1</td>\n",
       "      <td>0</td>\n",
       "      <td>0</td>\n",
       "      <td>0</td>\n",
       "      <td>1</td>\n",
       "      <td>0</td>\n",
       "      <td>0</td>\n",
       "      <td>...</td>\n",
       "      <td>0</td>\n",
       "      <td>0</td>\n",
       "      <td>0</td>\n",
       "      <td>0</td>\n",
       "      <td>1</td>\n",
       "      <td>1</td>\n",
       "      <td>0</td>\n",
       "      <td>1</td>\n",
       "      <td>0</td>\n",
       "      <td>0</td>\n",
       "    </tr>\n",
       "    <tr>\n",
       "      <th>4</th>\n",
       "      <td>2</td>\n",
       "      <td>0</td>\n",
       "      <td>1</td>\n",
       "      <td>0</td>\n",
       "      <td>0</td>\n",
       "      <td>0</td>\n",
       "      <td>0</td>\n",
       "      <td>0</td>\n",
       "      <td>0</td>\n",
       "      <td>0</td>\n",
       "      <td>...</td>\n",
       "      <td>0</td>\n",
       "      <td>0</td>\n",
       "      <td>0</td>\n",
       "      <td>0</td>\n",
       "      <td>1</td>\n",
       "      <td>1</td>\n",
       "      <td>0</td>\n",
       "      <td>0</td>\n",
       "      <td>1</td>\n",
       "      <td>0</td>\n",
       "    </tr>\n",
       "  </tbody>\n",
       "</table>\n",
       "<p>5 rows × 31 columns</p>\n",
       "</div>"
      ],
      "text/plain": [
       "   Deg-malig  Class_1  Age_2  Age_3  Age_4  Age_5  Age_6  Menopause_2  \\\n",
       "0          3        0      0      0      0      0      0            0   \n",
       "1          2        0      1      0      0      0      0            0   \n",
       "2          2        0      1      0      0      0      0            0   \n",
       "3          2        0      0      1      0      0      0            1   \n",
       "4          2        0      1      0      0      0      0            0   \n",
       "\n",
       "   Menopause_3  Tumor-size_2  ...  Inv-nodes_4  Inv-nodes_5  Inv-nodes_6  \\\n",
       "0            0             0  ...            0            0            0   \n",
       "1            0             1  ...            0            0            0   \n",
       "2            0             1  ...            0            0            0   \n",
       "3            0             0  ...            0            0            0   \n",
       "4            0             0  ...            0            0            0   \n",
       "\n",
       "   Inv-nodes_7  Node-caps_1  Breast_1  Breast-quad_1  Breast-quad_2  \\\n",
       "0            0            1         0              0              0   \n",
       "1            0            1         1              1              0   \n",
       "2            0            1         0              0              0   \n",
       "3            0            1         1              0              1   \n",
       "4            0            1         1              0              0   \n",
       "\n",
       "   Breast-quad_3  Breast-quad_4  \n",
       "0              0              0  \n",
       "1              0              0  \n",
       "2              0              0  \n",
       "3              0              0  \n",
       "4              1              0  \n",
       "\n",
       "[5 rows x 31 columns]"
      ]
     },
     "execution_count": 49,
     "metadata": {},
     "output_type": "execute_result"
    }
   ],
   "source": [
    "data_drop_dummy.head()"
   ]
  },
  {
   "cell_type": "code",
   "execution_count": 50,
   "id": "dfc46c71",
   "metadata": {},
   "outputs": [
    {
     "data": {
      "text/plain": [
       "(267, 31)"
      ]
     },
     "execution_count": 50,
     "metadata": {},
     "output_type": "execute_result"
    }
   ],
   "source": [
    "data_drop_dummy.shape"
   ]
  },
  {
   "cell_type": "code",
   "execution_count": 51,
   "id": "30a923e2",
   "metadata": {},
   "outputs": [
    {
     "data": {
      "text/plain": [
       "array([[3, 0, 0, ..., 0, 0, 0],\n",
       "       [2, 0, 1, ..., 0, 0, 0],\n",
       "       [2, 0, 1, ..., 0, 0, 0],\n",
       "       ...,\n",
       "       [1, 1, 0, ..., 1, 0, 0],\n",
       "       [3, 1, 1, ..., 0, 0, 0],\n",
       "       [3, 1, 0, ..., 0, 0, 0]], dtype=int64)"
      ]
     },
     "execution_count": 51,
     "metadata": {},
     "output_type": "execute_result"
    }
   ],
   "source": [
    "#### Train and test data\n",
    "x=data_drop_dummy.values\n",
    "y=data_drop[\"Irradiat\"]"
   ]
  },
  {
   "cell_type": "code",
   "execution_count": 52,
   "id": "c2c044f8",
   "metadata": {},
   "outputs": [],
   "source": [
    "########################## splitting into training and testing data\n",
    "from sklearn.model_selection import train_test_split\n",
    "x_train,x_test,y_train,y_test=train_test_split(x,y,test_size=0.2,random_state=42)"
   ]
  },
  {
   "cell_type": "markdown",
   "id": "2a64617b",
   "metadata": {},
   "source": [
    "# Fitting Logistic regression Model "
   ]
  },
  {
   "cell_type": "code",
   "execution_count": 53,
   "id": "11ba909f",
   "metadata": {},
   "outputs": [],
   "source": [
    "############################# fitting model\n",
    "from sklearn.linear_model import LogisticRegression"
   ]
  },
  {
   "cell_type": "code",
   "execution_count": 54,
   "id": "d3bab4ba",
   "metadata": {},
   "outputs": [],
   "source": [
    "logmodel=LogisticRegression()"
   ]
  },
  {
   "cell_type": "code",
   "execution_count": 55,
   "id": "fa797fa9",
   "metadata": {},
   "outputs": [
    {
     "data": {
      "text/plain": [
       "LogisticRegression()"
      ]
     },
     "execution_count": 55,
     "metadata": {},
     "output_type": "execute_result"
    }
   ],
   "source": [
    "logmodel.fit(x_train,y_train)"
   ]
  },
  {
   "cell_type": "code",
   "execution_count": 56,
   "id": "42caee21",
   "metadata": {},
   "outputs": [
    {
     "data": {
      "text/plain": [
       "array(['no', 'no', 'no', 'yes', 'no', 'no', 'no', 'no', 'no', 'no', 'no',\n",
       "       'no', 'yes', 'no', 'no', 'no', 'no', 'no', 'no', 'no', 'no', 'no',\n",
       "       'no', 'no', 'yes', 'no', 'no', 'no', 'no', 'no', 'no', 'no', 'no',\n",
       "       'no', 'yes', 'no', 'no', 'no', 'no', 'no', 'no', 'no', 'no', 'no',\n",
       "       'no', 'no', 'no', 'no', 'no', 'no', 'no', 'no', 'no', 'no'],\n",
       "      dtype=object)"
      ]
     },
     "execution_count": 56,
     "metadata": {},
     "output_type": "execute_result"
    }
   ],
   "source": [
    "predictions=logmodel.predict(x_test)\n",
    "predictions"
   ]
  },
  {
   "cell_type": "code",
   "execution_count": 57,
   "id": "261043f6",
   "metadata": {},
   "outputs": [
    {
     "name": "stdout",
     "output_type": "stream",
     "text": [
      "              precision    recall  f1-score   support\n",
      "\n",
      "          no       0.82      0.93      0.87        44\n",
      "         yes       0.25      0.10      0.14        10\n",
      "\n",
      "    accuracy                           0.78        54\n",
      "   macro avg       0.53      0.52      0.51        54\n",
      "weighted avg       0.71      0.78      0.74        54\n",
      "\n"
     ]
    }
   ],
   "source": [
    "from sklearn.metrics import classification_report\n",
    "print(classification_report(y_test,predictions))       ##### presion ,recall are less"
   ]
  },
  {
   "cell_type": "code",
   "execution_count": 58,
   "id": "6dbd2f7b",
   "metadata": {},
   "outputs": [],
   "source": [
    "from sklearn.metrics import confusion_matrix"
   ]
  },
  {
   "cell_type": "code",
   "execution_count": 59,
   "id": "ef960857",
   "metadata": {},
   "outputs": [
    {
     "data": {
      "text/plain": [
       "array([[41,  3],\n",
       "       [ 9,  1]], dtype=int64)"
      ]
     },
     "execution_count": 59,
     "metadata": {},
     "output_type": "execute_result"
    }
   ],
   "source": [
    "confusion_matrix(y_test,predictions)"
   ]
  },
  {
   "cell_type": "code",
   "execution_count": 60,
   "id": "5d544b4a",
   "metadata": {},
   "outputs": [
    {
     "data": {
      "text/plain": [
       "0.7777777777777778"
      ]
     },
     "execution_count": 60,
     "metadata": {},
     "output_type": "execute_result"
    }
   ],
   "source": [
    "from sklearn.metrics import accuracy_score\n",
    "accuracy_score(y_test,predictions)"
   ]
  },
  {
   "cell_type": "markdown",
   "id": "f52d486b",
   "metadata": {},
   "source": [
    "# Applying Resampling To Dataset"
   ]
  },
  {
   "cell_type": "code",
   "execution_count": 62,
   "id": "5034e38d",
   "metadata": {},
   "outputs": [],
   "source": [
    "### since precision ,recall are less ,we are removing imbalance from data\n",
    "from imblearn.over_sampling import RandomOverSampler\n",
    "oversample = RandomOverSampler(sampling_strategy='minority')\n",
    "x_train_resampled, y_train_resampled = oversample.fit_resample(x_train, y_train)"
   ]
  },
  {
   "cell_type": "code",
   "execution_count": 63,
   "id": "b9665e97",
   "metadata": {},
   "outputs": [
    {
     "data": {
      "text/plain": [
       "167"
      ]
     },
     "execution_count": 63,
     "metadata": {},
     "output_type": "execute_result"
    }
   ],
   "source": [
    "y_train_resampled[y_train_resampled==\"yes\"].count()\n",
    "y_train_resampled[y_train_resampled==\"no\"].count()"
   ]
  },
  {
   "cell_type": "code",
   "execution_count": 64,
   "id": "f786c0fe",
   "metadata": {},
   "outputs": [
    {
     "name": "stdout",
     "output_type": "stream",
     "text": [
      "              precision    recall  f1-score   support\n",
      "\n",
      "          no       0.90      0.82      0.86        44\n",
      "         yes       0.43      0.60      0.50        10\n",
      "\n",
      "    accuracy                           0.78        54\n",
      "   macro avg       0.66      0.71      0.68        54\n",
      "weighted avg       0.81      0.78      0.79        54\n",
      "\n"
     ]
    }
   ],
   "source": [
    "logmodel_resampled=LogisticRegression()\n",
    "logmodel_resampled.fit(x_train_resampled,y_train_resampled)\n",
    "predictions_resampled=logmodel_resampled.predict(x_test)\n",
    "print(classification_report(y_test,predictions_resampled))    ####### presion ,recall increased after resampling"
   ]
  },
  {
   "cell_type": "markdown",
   "id": "c9e89065",
   "metadata": {},
   "source": [
    "# Preparing the given test data set"
   ]
  },
  {
   "cell_type": "code",
   "execution_count": 117,
   "id": "abc1f75d",
   "metadata": {},
   "outputs": [
    {
     "data": {
      "text/html": [
       "<div>\n",
       "<style scoped>\n",
       "    .dataframe tbody tr th:only-of-type {\n",
       "        vertical-align: middle;\n",
       "    }\n",
       "\n",
       "    .dataframe tbody tr th {\n",
       "        vertical-align: top;\n",
       "    }\n",
       "\n",
       "    .dataframe thead th {\n",
       "        text-align: right;\n",
       "    }\n",
       "</style>\n",
       "<table border=\"1\" class=\"dataframe\">\n",
       "  <thead>\n",
       "    <tr style=\"text-align: right;\">\n",
       "      <th></th>\n",
       "      <th>Class</th>\n",
       "      <th>Age</th>\n",
       "      <th>Menopause</th>\n",
       "      <th>Tumor-size</th>\n",
       "      <th>Inv-nodes</th>\n",
       "      <th>Node-caps</th>\n",
       "      <th>Deg-malig</th>\n",
       "      <th>Breast</th>\n",
       "      <th>Breast-quad</th>\n",
       "      <th>Irradiat</th>\n",
       "    </tr>\n",
       "  </thead>\n",
       "  <tbody>\n",
       "    <tr>\n",
       "      <th>0</th>\n",
       "      <td>no-recurrence-events</td>\n",
       "      <td>30-39</td>\n",
       "      <td>premeno</td>\n",
       "      <td>25-29</td>\n",
       "      <td>6-8</td>\n",
       "      <td>yes</td>\n",
       "      <td>2</td>\n",
       "      <td>right</td>\n",
       "      <td>left_up</td>\n",
       "      <td>NaN</td>\n",
       "    </tr>\n",
       "    <tr>\n",
       "      <th>1</th>\n",
       "      <td>no-recurrence-events</td>\n",
       "      <td>50-59</td>\n",
       "      <td>premeno</td>\n",
       "      <td>25-29</td>\n",
       "      <td>NaN</td>\n",
       "      <td>yes</td>\n",
       "      <td>2</td>\n",
       "      <td>left</td>\n",
       "      <td>left_up</td>\n",
       "      <td>NaN</td>\n",
       "    </tr>\n",
       "    <tr>\n",
       "      <th>2</th>\n",
       "      <td>no-recurrence-events</td>\n",
       "      <td>40-49</td>\n",
       "      <td>premeno</td>\n",
       "      <td>35-39</td>\n",
       "      <td>9-11</td>\n",
       "      <td>yes</td>\n",
       "      <td>2</td>\n",
       "      <td>right</td>\n",
       "      <td>left_up</td>\n",
       "      <td>NaN</td>\n",
       "    </tr>\n",
       "    <tr>\n",
       "      <th>3</th>\n",
       "      <td>no-recurrence-events</td>\n",
       "      <td>40-49</td>\n",
       "      <td>premeno</td>\n",
       "      <td>35-39</td>\n",
       "      <td>9-11</td>\n",
       "      <td>yes</td>\n",
       "      <td>2</td>\n",
       "      <td>right</td>\n",
       "      <td>right_up</td>\n",
       "      <td>NaN</td>\n",
       "    </tr>\n",
       "    <tr>\n",
       "      <th>4</th>\n",
       "      <td>no-recurrence-events</td>\n",
       "      <td>40-49</td>\n",
       "      <td>premeno</td>\n",
       "      <td>40-44</td>\n",
       "      <td>3-5</td>\n",
       "      <td>yes</td>\n",
       "      <td>3</td>\n",
       "      <td>right</td>\n",
       "      <td>left_up</td>\n",
       "      <td>NaN</td>\n",
       "    </tr>\n",
       "    <tr>\n",
       "      <th>5</th>\n",
       "      <td>no-recurrence-events</td>\n",
       "      <td>40-49</td>\n",
       "      <td>premeno</td>\n",
       "      <td>30-34</td>\n",
       "      <td>6-8</td>\n",
       "      <td>no</td>\n",
       "      <td>2</td>\n",
       "      <td>left</td>\n",
       "      <td>left_up</td>\n",
       "      <td>NaN</td>\n",
       "    </tr>\n",
       "    <tr>\n",
       "      <th>6</th>\n",
       "      <td>no-recurrence-events</td>\n",
       "      <td>50-59</td>\n",
       "      <td>ge40</td>\n",
       "      <td>40-44</td>\n",
       "      <td>0-2</td>\n",
       "      <td>no</td>\n",
       "      <td>3</td>\n",
       "      <td>left</td>\n",
       "      <td>right_up</td>\n",
       "      <td>NaN</td>\n",
       "    </tr>\n",
       "    <tr>\n",
       "      <th>7</th>\n",
       "      <td>no-recurrence-events</td>\n",
       "      <td>60-69</td>\n",
       "      <td>ge40</td>\n",
       "      <td>30-34</td>\n",
       "      <td>NaN</td>\n",
       "      <td>no</td>\n",
       "      <td>2</td>\n",
       "      <td>left</td>\n",
       "      <td>left_low</td>\n",
       "      <td>NaN</td>\n",
       "    </tr>\n",
       "    <tr>\n",
       "      <th>8</th>\n",
       "      <td>no-recurrence-events</td>\n",
       "      <td>30-39</td>\n",
       "      <td>premeno</td>\n",
       "      <td>20-24</td>\n",
       "      <td>3-5</td>\n",
       "      <td>no</td>\n",
       "      <td>2</td>\n",
       "      <td>right</td>\n",
       "      <td>central</td>\n",
       "      <td>NaN</td>\n",
       "    </tr>\n",
       "    <tr>\n",
       "      <th>9</th>\n",
       "      <td>no-recurrence-events</td>\n",
       "      <td>30-39</td>\n",
       "      <td>premeno</td>\n",
       "      <td>40-44</td>\n",
       "      <td>3-5</td>\n",
       "      <td>no</td>\n",
       "      <td>3</td>\n",
       "      <td>right</td>\n",
       "      <td>right_up</td>\n",
       "      <td>NaN</td>\n",
       "    </tr>\n",
       "  </tbody>\n",
       "</table>\n",
       "</div>"
      ],
      "text/plain": [
       "                  Class    Age Menopause Tumor-size Inv-nodes Node-caps  \\\n",
       "0  no-recurrence-events  30-39   premeno      25-29       6-8       yes   \n",
       "1  no-recurrence-events  50-59   premeno      25-29       NaN       yes   \n",
       "2  no-recurrence-events  40-49   premeno      35-39      9-11       yes   \n",
       "3  no-recurrence-events  40-49   premeno      35-39      9-11       yes   \n",
       "4  no-recurrence-events  40-49   premeno      40-44       3-5       yes   \n",
       "5  no-recurrence-events  40-49   premeno      30-34       6-8        no   \n",
       "6  no-recurrence-events  50-59      ge40      40-44       0-2        no   \n",
       "7  no-recurrence-events  60-69      ge40      30-34       NaN        no   \n",
       "8  no-recurrence-events  30-39   premeno      20-24       3-5        no   \n",
       "9  no-recurrence-events  30-39   premeno      40-44       3-5        no   \n",
       "\n",
       "   Deg-malig Breast Breast-quad  Irradiat  \n",
       "0          2  right     left_up       NaN  \n",
       "1          2   left     left_up       NaN  \n",
       "2          2  right     left_up       NaN  \n",
       "3          2  right    right_up       NaN  \n",
       "4          3  right     left_up       NaN  \n",
       "5          2   left     left_up       NaN  \n",
       "6          3   left    right_up       NaN  \n",
       "7          2   left    left_low       NaN  \n",
       "8          2  right     central       NaN  \n",
       "9          3  right    right_up       NaN  "
      ]
     },
     "execution_count": 117,
     "metadata": {},
     "output_type": "execute_result"
    }
   ],
   "source": [
    "#################### predicting for given test data\n",
    "given_test=pd.read_excel(r\"C:\\Users\\POULAMI\\Desktop\\own data\\Test_Breast_Cancer.xlsx\")\n",
    "given_test"
   ]
  },
  {
   "cell_type": "code",
   "execution_count": 118,
   "id": "90b47d7d",
   "metadata": {},
   "outputs": [
    {
     "data": {
      "text/html": [
       "<div>\n",
       "<style scoped>\n",
       "    .dataframe tbody tr th:only-of-type {\n",
       "        vertical-align: middle;\n",
       "    }\n",
       "\n",
       "    .dataframe tbody tr th {\n",
       "        vertical-align: top;\n",
       "    }\n",
       "\n",
       "    .dataframe thead th {\n",
       "        text-align: right;\n",
       "    }\n",
       "</style>\n",
       "<table border=\"1\" class=\"dataframe\">\n",
       "  <thead>\n",
       "    <tr style=\"text-align: right;\">\n",
       "      <th></th>\n",
       "      <th>Class</th>\n",
       "      <th>Age</th>\n",
       "      <th>Menopause</th>\n",
       "      <th>Tumor-size</th>\n",
       "      <th>Inv-nodes</th>\n",
       "      <th>Node-caps</th>\n",
       "      <th>Breast</th>\n",
       "      <th>Breast-quad</th>\n",
       "      <th>Deg-malig</th>\n",
       "    </tr>\n",
       "  </thead>\n",
       "  <tbody>\n",
       "    <tr>\n",
       "      <th>0</th>\n",
       "      <td>0</td>\n",
       "      <td>1</td>\n",
       "      <td>1</td>\n",
       "      <td>5</td>\n",
       "      <td>2.0</td>\n",
       "      <td>0</td>\n",
       "      <td>1</td>\n",
       "      <td>2</td>\n",
       "      <td>2</td>\n",
       "    </tr>\n",
       "    <tr>\n",
       "      <th>1</th>\n",
       "      <td>0</td>\n",
       "      <td>4</td>\n",
       "      <td>1</td>\n",
       "      <td>5</td>\n",
       "      <td>NaN</td>\n",
       "      <td>0</td>\n",
       "      <td>0</td>\n",
       "      <td>2</td>\n",
       "      <td>2</td>\n",
       "    </tr>\n",
       "    <tr>\n",
       "      <th>2</th>\n",
       "      <td>0</td>\n",
       "      <td>2</td>\n",
       "      <td>1</td>\n",
       "      <td>9</td>\n",
       "      <td>5.0</td>\n",
       "      <td>0</td>\n",
       "      <td>1</td>\n",
       "      <td>2</td>\n",
       "      <td>2</td>\n",
       "    </tr>\n",
       "    <tr>\n",
       "      <th>3</th>\n",
       "      <td>0</td>\n",
       "      <td>2</td>\n",
       "      <td>1</td>\n",
       "      <td>9</td>\n",
       "      <td>5.0</td>\n",
       "      <td>0</td>\n",
       "      <td>1</td>\n",
       "      <td>1</td>\n",
       "      <td>2</td>\n",
       "    </tr>\n",
       "    <tr>\n",
       "      <th>4</th>\n",
       "      <td>0</td>\n",
       "      <td>2</td>\n",
       "      <td>1</td>\n",
       "      <td>8</td>\n",
       "      <td>3.0</td>\n",
       "      <td>0</td>\n",
       "      <td>1</td>\n",
       "      <td>2</td>\n",
       "      <td>3</td>\n",
       "    </tr>\n",
       "    <tr>\n",
       "      <th>5</th>\n",
       "      <td>0</td>\n",
       "      <td>2</td>\n",
       "      <td>1</td>\n",
       "      <td>1</td>\n",
       "      <td>2.0</td>\n",
       "      <td>1</td>\n",
       "      <td>0</td>\n",
       "      <td>2</td>\n",
       "      <td>2</td>\n",
       "    </tr>\n",
       "    <tr>\n",
       "      <th>6</th>\n",
       "      <td>0</td>\n",
       "      <td>4</td>\n",
       "      <td>2</td>\n",
       "      <td>8</td>\n",
       "      <td>1.0</td>\n",
       "      <td>1</td>\n",
       "      <td>0</td>\n",
       "      <td>1</td>\n",
       "      <td>3</td>\n",
       "    </tr>\n",
       "    <tr>\n",
       "      <th>7</th>\n",
       "      <td>0</td>\n",
       "      <td>3</td>\n",
       "      <td>2</td>\n",
       "      <td>1</td>\n",
       "      <td>NaN</td>\n",
       "      <td>1</td>\n",
       "      <td>0</td>\n",
       "      <td>0</td>\n",
       "      <td>2</td>\n",
       "    </tr>\n",
       "    <tr>\n",
       "      <th>8</th>\n",
       "      <td>0</td>\n",
       "      <td>1</td>\n",
       "      <td>1</td>\n",
       "      <td>2</td>\n",
       "      <td>3.0</td>\n",
       "      <td>1</td>\n",
       "      <td>1</td>\n",
       "      <td>4</td>\n",
       "      <td>2</td>\n",
       "    </tr>\n",
       "    <tr>\n",
       "      <th>9</th>\n",
       "      <td>0</td>\n",
       "      <td>1</td>\n",
       "      <td>1</td>\n",
       "      <td>8</td>\n",
       "      <td>3.0</td>\n",
       "      <td>1</td>\n",
       "      <td>1</td>\n",
       "      <td>1</td>\n",
       "      <td>3</td>\n",
       "    </tr>\n",
       "  </tbody>\n",
       "</table>\n",
       "</div>"
      ],
      "text/plain": [
       "   Class  Age  Menopause  Tumor-size  Inv-nodes  Node-caps  Breast  \\\n",
       "0      0    1          1           5        2.0          0       1   \n",
       "1      0    4          1           5        NaN          0       0   \n",
       "2      0    2          1           9        5.0          0       1   \n",
       "3      0    2          1           9        5.0          0       1   \n",
       "4      0    2          1           8        3.0          0       1   \n",
       "5      0    2          1           1        2.0          1       0   \n",
       "6      0    4          2           8        1.0          1       0   \n",
       "7      0    3          2           1        NaN          1       0   \n",
       "8      0    1          1           2        3.0          1       1   \n",
       "9      0    1          1           8        3.0          1       1   \n",
       "\n",
       "   Breast-quad  Deg-malig  \n",
       "0            2          2  \n",
       "1            2          2  \n",
       "2            2          2  \n",
       "3            1          2  \n",
       "4            2          3  \n",
       "5            2          2  \n",
       "6            1          3  \n",
       "7            0          2  \n",
       "8            4          2  \n",
       "9            1          3  "
      ]
     },
     "execution_count": 118,
     "metadata": {},
     "output_type": "execute_result"
    }
   ],
   "source": [
    "##### level encoding for given test set\n",
    "given_test_map=pd.DataFrame()\n",
    "class_mapper={'no-recurrence-events':0,'recurrence-events':1}\n",
    "given_test_map[\"Class\"] =given_test[\"Class\"].replace(class_mapper)\n",
    "age_mapper={'30-39':1, '40-49':2, '60-69':3, '50-59':4, '70-79':5, '20-29':6}\n",
    "given_test_map[\"Age\"]=given_test[\"Age\"].replace(age_mapper)\n",
    "menopause_mapper={'premeno':1, 'ge40':2, 'lt40':3}\n",
    "given_test_map[\"Menopause\"]=given_test[\"Menopause\"].replace(menopause_mapper)\n",
    "tumor_size_mapper={'30-34':1, '20-24':2, '15-19':3, '0-4':4, '25-29':5, '50-54':6, '10-14':7,\n",
    "       '40-44':8, '35-39':9, '5-9':10, '45-49':11}\n",
    "given_test_map[\"Tumor-size\"]=given_test[\"Tumor-size\"].replace(tumor_size_mapper)\n",
    "inv_nodes_mapper={'0-2':1, '6-8':2, '3-5':3, '15-17':4, '9-11':5, '12-14':6, '24-26':7}\n",
    "given_test_map[\"Inv-nodes\"]=given_test[\"Inv-nodes\"].replace(inv_nodes_mapper)\n",
    "nodes_caps_mapper={'yes':0,'no':1}\n",
    "given_test_map[\"Node-caps\"]=given_test[\"Node-caps\"].replace(nodes_caps_mapper)\n",
    "breast_mapper={'left':0,'right':1}\n",
    "given_test_map[\"Breast\"]=given_test[\"Breast\"].replace(breast_mapper)\n",
    "breast_quad_mapper={'left_low':0, 'right_up':1, 'left_up':2, 'right_low':3, 'central':4}\n",
    "given_test_map[\"Breast-quad\"]=given_test[\"Breast-quad\"].replace(breast_quad_mapper)\n",
    "given_test_map[\"Deg-malig\"]=given_test[\"Deg-malig\"]\n",
    "given_test_map"
   ]
  },
  {
   "cell_type": "code",
   "execution_count": 119,
   "id": "13b0fe81",
   "metadata": {},
   "outputs": [
    {
     "data": {
      "text/html": [
       "<div>\n",
       "<style scoped>\n",
       "    .dataframe tbody tr th:only-of-type {\n",
       "        vertical-align: middle;\n",
       "    }\n",
       "\n",
       "    .dataframe tbody tr th {\n",
       "        vertical-align: top;\n",
       "    }\n",
       "\n",
       "    .dataframe thead th {\n",
       "        text-align: right;\n",
       "    }\n",
       "</style>\n",
       "<table border=\"1\" class=\"dataframe\">\n",
       "  <thead>\n",
       "    <tr style=\"text-align: right;\">\n",
       "      <th></th>\n",
       "      <th>Class</th>\n",
       "      <th>Age</th>\n",
       "      <th>Menopause</th>\n",
       "      <th>Tumor-size</th>\n",
       "      <th>Inv-nodes</th>\n",
       "      <th>Node-caps</th>\n",
       "      <th>Breast</th>\n",
       "      <th>Breast-quad</th>\n",
       "      <th>Deg-malig</th>\n",
       "    </tr>\n",
       "  </thead>\n",
       "  <tbody>\n",
       "    <tr>\n",
       "      <th>0</th>\n",
       "      <td>0</td>\n",
       "      <td>1</td>\n",
       "      <td>1</td>\n",
       "      <td>5</td>\n",
       "      <td>2.0</td>\n",
       "      <td>0</td>\n",
       "      <td>1</td>\n",
       "      <td>2</td>\n",
       "      <td>2</td>\n",
       "    </tr>\n",
       "    <tr>\n",
       "      <th>2</th>\n",
       "      <td>0</td>\n",
       "      <td>2</td>\n",
       "      <td>1</td>\n",
       "      <td>9</td>\n",
       "      <td>5.0</td>\n",
       "      <td>0</td>\n",
       "      <td>1</td>\n",
       "      <td>2</td>\n",
       "      <td>2</td>\n",
       "    </tr>\n",
       "    <tr>\n",
       "      <th>3</th>\n",
       "      <td>0</td>\n",
       "      <td>2</td>\n",
       "      <td>1</td>\n",
       "      <td>9</td>\n",
       "      <td>5.0</td>\n",
       "      <td>0</td>\n",
       "      <td>1</td>\n",
       "      <td>1</td>\n",
       "      <td>2</td>\n",
       "    </tr>\n",
       "    <tr>\n",
       "      <th>4</th>\n",
       "      <td>0</td>\n",
       "      <td>2</td>\n",
       "      <td>1</td>\n",
       "      <td>8</td>\n",
       "      <td>3.0</td>\n",
       "      <td>0</td>\n",
       "      <td>1</td>\n",
       "      <td>2</td>\n",
       "      <td>3</td>\n",
       "    </tr>\n",
       "    <tr>\n",
       "      <th>5</th>\n",
       "      <td>0</td>\n",
       "      <td>2</td>\n",
       "      <td>1</td>\n",
       "      <td>1</td>\n",
       "      <td>2.0</td>\n",
       "      <td>1</td>\n",
       "      <td>0</td>\n",
       "      <td>2</td>\n",
       "      <td>2</td>\n",
       "    </tr>\n",
       "    <tr>\n",
       "      <th>6</th>\n",
       "      <td>0</td>\n",
       "      <td>4</td>\n",
       "      <td>2</td>\n",
       "      <td>8</td>\n",
       "      <td>1.0</td>\n",
       "      <td>1</td>\n",
       "      <td>0</td>\n",
       "      <td>1</td>\n",
       "      <td>3</td>\n",
       "    </tr>\n",
       "    <tr>\n",
       "      <th>8</th>\n",
       "      <td>0</td>\n",
       "      <td>1</td>\n",
       "      <td>1</td>\n",
       "      <td>2</td>\n",
       "      <td>3.0</td>\n",
       "      <td>1</td>\n",
       "      <td>1</td>\n",
       "      <td>4</td>\n",
       "      <td>2</td>\n",
       "    </tr>\n",
       "    <tr>\n",
       "      <th>9</th>\n",
       "      <td>0</td>\n",
       "      <td>1</td>\n",
       "      <td>1</td>\n",
       "      <td>8</td>\n",
       "      <td>3.0</td>\n",
       "      <td>1</td>\n",
       "      <td>1</td>\n",
       "      <td>1</td>\n",
       "      <td>3</td>\n",
       "    </tr>\n",
       "  </tbody>\n",
       "</table>\n",
       "</div>"
      ],
      "text/plain": [
       "   Class  Age  Menopause  Tumor-size  Inv-nodes  Node-caps  Breast  \\\n",
       "0      0    1          1           5        2.0          0       1   \n",
       "2      0    2          1           9        5.0          0       1   \n",
       "3      0    2          1           9        5.0          0       1   \n",
       "4      0    2          1           8        3.0          0       1   \n",
       "5      0    2          1           1        2.0          1       0   \n",
       "6      0    4          2           8        1.0          1       0   \n",
       "8      0    1          1           2        3.0          1       1   \n",
       "9      0    1          1           8        3.0          1       1   \n",
       "\n",
       "   Breast-quad  Deg-malig  \n",
       "0            2          2  \n",
       "2            2          2  \n",
       "3            1          2  \n",
       "4            2          3  \n",
       "5            2          2  \n",
       "6            1          3  \n",
       "8            4          2  \n",
       "9            1          3  "
      ]
     },
     "execution_count": 119,
     "metadata": {},
     "output_type": "execute_result"
    }
   ],
   "source": [
    "##### creating dataframe without null values\n",
    "inv_nodes_given=given_test_map.iloc[np.r_[0,2:7,8:10],np.r_[0:5,5:9]]\n",
    "inv_nodes_given"
   ]
  },
  {
   "cell_type": "code",
   "execution_count": 120,
   "id": "546c5bde",
   "metadata": {},
   "outputs": [],
   "source": [
    "################### want to predict missing values in Inv-node column by applying decisiontree classifier\n",
    "inv_nodes_x=inv_nodes_given.iloc[:,np.r_[0:4,5:9]].values\n",
    "inv_nodes_y=inv_nodes_given.iloc[:,4].values"
   ]
  },
  {
   "cell_type": "code",
   "execution_count": 121,
   "id": "b9e8a9fd",
   "metadata": {},
   "outputs": [
    {
     "data": {
      "text/plain": [
       "array([[0, 4, 1, 5, 0, 0, 2, 2],\n",
       "       [0, 3, 2, 1, 1, 0, 0, 2]], dtype=int64)"
      ]
     },
     "execution_count": 121,
     "metadata": {},
     "output_type": "execute_result"
    }
   ],
   "source": [
    "inv_nodes_test=given_test_map.iloc[np.r_[1,7],np.r_[0:4,5:9]].values\n",
    "inv_nodes_test"
   ]
  },
  {
   "cell_type": "code",
   "execution_count": 122,
   "id": "7ca09dc8",
   "metadata": {},
   "outputs": [
    {
     "data": {
      "text/plain": [
       "DecisionTreeClassifier(criterion='entropy', random_state=0)"
      ]
     },
     "execution_count": 122,
     "metadata": {},
     "output_type": "execute_result"
    }
   ],
   "source": [
    "from sklearn.tree import DecisionTreeClassifier\n",
    "DTclassifier=DecisionTreeClassifier(criterion=\"entropy\",random_state=0)\n",
    "DTclassifier.fit(inv_nodes_x,inv_nodes_y)"
   ]
  },
  {
   "cell_type": "code",
   "execution_count": 123,
   "id": "87a092d4",
   "metadata": {},
   "outputs": [
    {
     "data": {
      "text/plain": [
       "array([2., 1.])"
      ]
     },
     "execution_count": 123,
     "metadata": {},
     "output_type": "execute_result"
    }
   ],
   "source": [
    "inv_nodes_pred=y_pred=DTclassifier.predict(inv_nodes_test)\n",
    "inv_nodes_pred ####### predicted classes are \"6-8\" and \"0-2\" respectively"
   ]
  },
  {
   "cell_type": "code",
   "execution_count": 124,
   "id": "d2c6cf34",
   "metadata": {},
   "outputs": [
    {
     "name": "stderr",
     "output_type": "stream",
     "text": [
      "C:\\Users\\POULAMI\\AppData\\Local\\Temp\\ipykernel_728\\1782367890.py:2: SettingWithCopyWarning: \n",
      "A value is trying to be set on a copy of a slice from a DataFrame\n",
      "\n",
      "See the caveats in the documentation: https://pandas.pydata.org/pandas-docs/stable/user_guide/indexing.html#returning-a-view-versus-a-copy\n",
      "  given_test_map[\"Inv-nodes\"][1]=2\n",
      "C:\\Users\\POULAMI\\AppData\\Local\\Temp\\ipykernel_728\\1782367890.py:3: SettingWithCopyWarning: \n",
      "A value is trying to be set on a copy of a slice from a DataFrame\n",
      "\n",
      "See the caveats in the documentation: https://pandas.pydata.org/pandas-docs/stable/user_guide/indexing.html#returning-a-view-versus-a-copy\n",
      "  given_test_map[\"Inv-nodes\"][7]=1\n"
     ]
    }
   ],
   "source": [
    "###### putting the predicted values in the test set\n",
    "given_test_map[\"Inv-nodes\"][1]=2\n",
    "given_test_map[\"Inv-nodes\"][7]=1"
   ]
  },
  {
   "cell_type": "code",
   "execution_count": 125,
   "id": "03004652",
   "metadata": {},
   "outputs": [
    {
     "data": {
      "text/html": [
       "<div>\n",
       "<style scoped>\n",
       "    .dataframe tbody tr th:only-of-type {\n",
       "        vertical-align: middle;\n",
       "    }\n",
       "\n",
       "    .dataframe tbody tr th {\n",
       "        vertical-align: top;\n",
       "    }\n",
       "\n",
       "    .dataframe thead th {\n",
       "        text-align: right;\n",
       "    }\n",
       "</style>\n",
       "<table border=\"1\" class=\"dataframe\">\n",
       "  <thead>\n",
       "    <tr style=\"text-align: right;\">\n",
       "      <th></th>\n",
       "      <th>Class</th>\n",
       "      <th>Age</th>\n",
       "      <th>Menopause</th>\n",
       "      <th>Tumor-size</th>\n",
       "      <th>Inv-nodes</th>\n",
       "      <th>Node-caps</th>\n",
       "      <th>Breast</th>\n",
       "      <th>Breast-quad</th>\n",
       "      <th>Deg-malig</th>\n",
       "    </tr>\n",
       "  </thead>\n",
       "  <tbody>\n",
       "    <tr>\n",
       "      <th>0</th>\n",
       "      <td>0</td>\n",
       "      <td>1</td>\n",
       "      <td>1</td>\n",
       "      <td>5</td>\n",
       "      <td>2.0</td>\n",
       "      <td>0</td>\n",
       "      <td>1</td>\n",
       "      <td>2</td>\n",
       "      <td>2</td>\n",
       "    </tr>\n",
       "    <tr>\n",
       "      <th>1</th>\n",
       "      <td>0</td>\n",
       "      <td>4</td>\n",
       "      <td>1</td>\n",
       "      <td>5</td>\n",
       "      <td>2.0</td>\n",
       "      <td>0</td>\n",
       "      <td>0</td>\n",
       "      <td>2</td>\n",
       "      <td>2</td>\n",
       "    </tr>\n",
       "    <tr>\n",
       "      <th>2</th>\n",
       "      <td>0</td>\n",
       "      <td>2</td>\n",
       "      <td>1</td>\n",
       "      <td>9</td>\n",
       "      <td>5.0</td>\n",
       "      <td>0</td>\n",
       "      <td>1</td>\n",
       "      <td>2</td>\n",
       "      <td>2</td>\n",
       "    </tr>\n",
       "    <tr>\n",
       "      <th>3</th>\n",
       "      <td>0</td>\n",
       "      <td>2</td>\n",
       "      <td>1</td>\n",
       "      <td>9</td>\n",
       "      <td>5.0</td>\n",
       "      <td>0</td>\n",
       "      <td>1</td>\n",
       "      <td>1</td>\n",
       "      <td>2</td>\n",
       "    </tr>\n",
       "    <tr>\n",
       "      <th>4</th>\n",
       "      <td>0</td>\n",
       "      <td>2</td>\n",
       "      <td>1</td>\n",
       "      <td>8</td>\n",
       "      <td>3.0</td>\n",
       "      <td>0</td>\n",
       "      <td>1</td>\n",
       "      <td>2</td>\n",
       "      <td>3</td>\n",
       "    </tr>\n",
       "    <tr>\n",
       "      <th>5</th>\n",
       "      <td>0</td>\n",
       "      <td>2</td>\n",
       "      <td>1</td>\n",
       "      <td>1</td>\n",
       "      <td>2.0</td>\n",
       "      <td>1</td>\n",
       "      <td>0</td>\n",
       "      <td>2</td>\n",
       "      <td>2</td>\n",
       "    </tr>\n",
       "    <tr>\n",
       "      <th>6</th>\n",
       "      <td>0</td>\n",
       "      <td>4</td>\n",
       "      <td>2</td>\n",
       "      <td>8</td>\n",
       "      <td>1.0</td>\n",
       "      <td>1</td>\n",
       "      <td>0</td>\n",
       "      <td>1</td>\n",
       "      <td>3</td>\n",
       "    </tr>\n",
       "    <tr>\n",
       "      <th>7</th>\n",
       "      <td>0</td>\n",
       "      <td>3</td>\n",
       "      <td>2</td>\n",
       "      <td>1</td>\n",
       "      <td>1.0</td>\n",
       "      <td>1</td>\n",
       "      <td>0</td>\n",
       "      <td>0</td>\n",
       "      <td>2</td>\n",
       "    </tr>\n",
       "    <tr>\n",
       "      <th>8</th>\n",
       "      <td>0</td>\n",
       "      <td>1</td>\n",
       "      <td>1</td>\n",
       "      <td>2</td>\n",
       "      <td>3.0</td>\n",
       "      <td>1</td>\n",
       "      <td>1</td>\n",
       "      <td>4</td>\n",
       "      <td>2</td>\n",
       "    </tr>\n",
       "    <tr>\n",
       "      <th>9</th>\n",
       "      <td>0</td>\n",
       "      <td>1</td>\n",
       "      <td>1</td>\n",
       "      <td>8</td>\n",
       "      <td>3.0</td>\n",
       "      <td>1</td>\n",
       "      <td>1</td>\n",
       "      <td>1</td>\n",
       "      <td>3</td>\n",
       "    </tr>\n",
       "  </tbody>\n",
       "</table>\n",
       "</div>"
      ],
      "text/plain": [
       "   Class  Age  Menopause  Tumor-size  Inv-nodes  Node-caps  Breast  \\\n",
       "0      0    1          1           5        2.0          0       1   \n",
       "1      0    4          1           5        2.0          0       0   \n",
       "2      0    2          1           9        5.0          0       1   \n",
       "3      0    2          1           9        5.0          0       1   \n",
       "4      0    2          1           8        3.0          0       1   \n",
       "5      0    2          1           1        2.0          1       0   \n",
       "6      0    4          2           8        1.0          1       0   \n",
       "7      0    3          2           1        1.0          1       0   \n",
       "8      0    1          1           2        3.0          1       1   \n",
       "9      0    1          1           8        3.0          1       1   \n",
       "\n",
       "   Breast-quad  Deg-malig  \n",
       "0            2          2  \n",
       "1            2          2  \n",
       "2            2          2  \n",
       "3            1          2  \n",
       "4            2          3  \n",
       "5            2          2  \n",
       "6            1          3  \n",
       "7            0          2  \n",
       "8            4          2  \n",
       "9            1          3  "
      ]
     },
     "execution_count": 125,
     "metadata": {},
     "output_type": "execute_result"
    }
   ],
   "source": [
    "given_test_map"
   ]
  },
  {
   "cell_type": "code",
   "execution_count": 126,
   "id": "6dd676fe",
   "metadata": {},
   "outputs": [
    {
     "data": {
      "text/html": [
       "<div>\n",
       "<style scoped>\n",
       "    .dataframe tbody tr th:only-of-type {\n",
       "        vertical-align: middle;\n",
       "    }\n",
       "\n",
       "    .dataframe tbody tr th {\n",
       "        vertical-align: top;\n",
       "    }\n",
       "\n",
       "    .dataframe thead th {\n",
       "        text-align: right;\n",
       "    }\n",
       "</style>\n",
       "<table border=\"1\" class=\"dataframe\">\n",
       "  <thead>\n",
       "    <tr style=\"text-align: right;\">\n",
       "      <th></th>\n",
       "      <th>Class</th>\n",
       "      <th>Age</th>\n",
       "      <th>Menopause</th>\n",
       "      <th>Tumor-size</th>\n",
       "      <th>Inv-nodes</th>\n",
       "      <th>Node-caps</th>\n",
       "      <th>Breast</th>\n",
       "      <th>Breast-quad</th>\n",
       "      <th>Deg-malig</th>\n",
       "    </tr>\n",
       "  </thead>\n",
       "  <tbody>\n",
       "    <tr>\n",
       "      <th>0</th>\n",
       "      <td>0</td>\n",
       "      <td>1</td>\n",
       "      <td>1</td>\n",
       "      <td>5</td>\n",
       "      <td>2.0</td>\n",
       "      <td>0</td>\n",
       "      <td>1</td>\n",
       "      <td>2</td>\n",
       "      <td>2</td>\n",
       "    </tr>\n",
       "    <tr>\n",
       "      <th>1</th>\n",
       "      <td>0</td>\n",
       "      <td>4</td>\n",
       "      <td>1</td>\n",
       "      <td>5</td>\n",
       "      <td>2.0</td>\n",
       "      <td>0</td>\n",
       "      <td>0</td>\n",
       "      <td>2</td>\n",
       "      <td>2</td>\n",
       "    </tr>\n",
       "    <tr>\n",
       "      <th>2</th>\n",
       "      <td>0</td>\n",
       "      <td>2</td>\n",
       "      <td>1</td>\n",
       "      <td>9</td>\n",
       "      <td>5.0</td>\n",
       "      <td>0</td>\n",
       "      <td>1</td>\n",
       "      <td>2</td>\n",
       "      <td>2</td>\n",
       "    </tr>\n",
       "    <tr>\n",
       "      <th>3</th>\n",
       "      <td>0</td>\n",
       "      <td>2</td>\n",
       "      <td>1</td>\n",
       "      <td>9</td>\n",
       "      <td>5.0</td>\n",
       "      <td>0</td>\n",
       "      <td>1</td>\n",
       "      <td>1</td>\n",
       "      <td>2</td>\n",
       "    </tr>\n",
       "    <tr>\n",
       "      <th>4</th>\n",
       "      <td>0</td>\n",
       "      <td>2</td>\n",
       "      <td>1</td>\n",
       "      <td>8</td>\n",
       "      <td>3.0</td>\n",
       "      <td>0</td>\n",
       "      <td>1</td>\n",
       "      <td>2</td>\n",
       "      <td>3</td>\n",
       "    </tr>\n",
       "  </tbody>\n",
       "</table>\n",
       "</div>"
      ],
      "text/plain": [
       "   Class  Age  Menopause  Tumor-size  Inv-nodes  Node-caps  Breast  \\\n",
       "0      0    1          1           5        2.0          0       1   \n",
       "1      0    4          1           5        2.0          0       0   \n",
       "2      0    2          1           9        5.0          0       1   \n",
       "3      0    2          1           9        5.0          0       1   \n",
       "4      0    2          1           8        3.0          0       1   \n",
       "\n",
       "   Breast-quad  Deg-malig  \n",
       "0            2          2  \n",
       "1            2          2  \n",
       "2            2          2  \n",
       "3            1          2  \n",
       "4            2          3  "
      ]
     },
     "execution_count": 126,
     "metadata": {},
     "output_type": "execute_result"
    }
   ],
   "source": [
    "##### merging given_test_map with data1 in order to have all attributes of features\n",
    "given_test_all_attri=pd.concat([given_test_map,data1])\n",
    "given_test_all_attri.head()"
   ]
  },
  {
   "cell_type": "code",
   "execution_count": 127,
   "id": "a08c0e2d",
   "metadata": {},
   "outputs": [
    {
     "data": {
      "text/html": [
       "<div>\n",
       "<style scoped>\n",
       "    .dataframe tbody tr th:only-of-type {\n",
       "        vertical-align: middle;\n",
       "    }\n",
       "\n",
       "    .dataframe tbody tr th {\n",
       "        vertical-align: top;\n",
       "    }\n",
       "\n",
       "    .dataframe thead th {\n",
       "        text-align: right;\n",
       "    }\n",
       "</style>\n",
       "<table border=\"1\" class=\"dataframe\">\n",
       "  <thead>\n",
       "    <tr style=\"text-align: right;\">\n",
       "      <th></th>\n",
       "      <th>Deg-malig</th>\n",
       "      <th>Class_1</th>\n",
       "      <th>Age_2</th>\n",
       "      <th>Age_3</th>\n",
       "      <th>Age_4</th>\n",
       "      <th>Age_5</th>\n",
       "      <th>Age_6</th>\n",
       "      <th>Menopause_2</th>\n",
       "      <th>Menopause_3</th>\n",
       "      <th>Tumor-size_2</th>\n",
       "      <th>...</th>\n",
       "      <th>Inv-nodes_4.0</th>\n",
       "      <th>Inv-nodes_5.0</th>\n",
       "      <th>Inv-nodes_6.0</th>\n",
       "      <th>Inv-nodes_7.0</th>\n",
       "      <th>Node-caps_1</th>\n",
       "      <th>Breast_1</th>\n",
       "      <th>Breast-quad_1</th>\n",
       "      <th>Breast-quad_2</th>\n",
       "      <th>Breast-quad_3</th>\n",
       "      <th>Breast-quad_4</th>\n",
       "    </tr>\n",
       "  </thead>\n",
       "  <tbody>\n",
       "    <tr>\n",
       "      <th>0</th>\n",
       "      <td>2</td>\n",
       "      <td>0</td>\n",
       "      <td>0</td>\n",
       "      <td>0</td>\n",
       "      <td>0</td>\n",
       "      <td>0</td>\n",
       "      <td>0</td>\n",
       "      <td>0</td>\n",
       "      <td>0</td>\n",
       "      <td>0</td>\n",
       "      <td>...</td>\n",
       "      <td>0</td>\n",
       "      <td>0</td>\n",
       "      <td>0</td>\n",
       "      <td>0</td>\n",
       "      <td>0</td>\n",
       "      <td>1</td>\n",
       "      <td>0</td>\n",
       "      <td>1</td>\n",
       "      <td>0</td>\n",
       "      <td>0</td>\n",
       "    </tr>\n",
       "    <tr>\n",
       "      <th>1</th>\n",
       "      <td>2</td>\n",
       "      <td>0</td>\n",
       "      <td>0</td>\n",
       "      <td>0</td>\n",
       "      <td>1</td>\n",
       "      <td>0</td>\n",
       "      <td>0</td>\n",
       "      <td>0</td>\n",
       "      <td>0</td>\n",
       "      <td>0</td>\n",
       "      <td>...</td>\n",
       "      <td>0</td>\n",
       "      <td>0</td>\n",
       "      <td>0</td>\n",
       "      <td>0</td>\n",
       "      <td>0</td>\n",
       "      <td>0</td>\n",
       "      <td>0</td>\n",
       "      <td>1</td>\n",
       "      <td>0</td>\n",
       "      <td>0</td>\n",
       "    </tr>\n",
       "    <tr>\n",
       "      <th>2</th>\n",
       "      <td>2</td>\n",
       "      <td>0</td>\n",
       "      <td>1</td>\n",
       "      <td>0</td>\n",
       "      <td>0</td>\n",
       "      <td>0</td>\n",
       "      <td>0</td>\n",
       "      <td>0</td>\n",
       "      <td>0</td>\n",
       "      <td>0</td>\n",
       "      <td>...</td>\n",
       "      <td>0</td>\n",
       "      <td>1</td>\n",
       "      <td>0</td>\n",
       "      <td>0</td>\n",
       "      <td>0</td>\n",
       "      <td>1</td>\n",
       "      <td>0</td>\n",
       "      <td>1</td>\n",
       "      <td>0</td>\n",
       "      <td>0</td>\n",
       "    </tr>\n",
       "    <tr>\n",
       "      <th>3</th>\n",
       "      <td>2</td>\n",
       "      <td>0</td>\n",
       "      <td>1</td>\n",
       "      <td>0</td>\n",
       "      <td>0</td>\n",
       "      <td>0</td>\n",
       "      <td>0</td>\n",
       "      <td>0</td>\n",
       "      <td>0</td>\n",
       "      <td>0</td>\n",
       "      <td>...</td>\n",
       "      <td>0</td>\n",
       "      <td>1</td>\n",
       "      <td>0</td>\n",
       "      <td>0</td>\n",
       "      <td>0</td>\n",
       "      <td>1</td>\n",
       "      <td>1</td>\n",
       "      <td>0</td>\n",
       "      <td>0</td>\n",
       "      <td>0</td>\n",
       "    </tr>\n",
       "    <tr>\n",
       "      <th>4</th>\n",
       "      <td>3</td>\n",
       "      <td>0</td>\n",
       "      <td>1</td>\n",
       "      <td>0</td>\n",
       "      <td>0</td>\n",
       "      <td>0</td>\n",
       "      <td>0</td>\n",
       "      <td>0</td>\n",
       "      <td>0</td>\n",
       "      <td>0</td>\n",
       "      <td>...</td>\n",
       "      <td>0</td>\n",
       "      <td>0</td>\n",
       "      <td>0</td>\n",
       "      <td>0</td>\n",
       "      <td>0</td>\n",
       "      <td>1</td>\n",
       "      <td>0</td>\n",
       "      <td>1</td>\n",
       "      <td>0</td>\n",
       "      <td>0</td>\n",
       "    </tr>\n",
       "  </tbody>\n",
       "</table>\n",
       "<p>5 rows × 31 columns</p>\n",
       "</div>"
      ],
      "text/plain": [
       "   Deg-malig  Class_1  Age_2  Age_3  Age_4  Age_5  Age_6  Menopause_2  \\\n",
       "0          2        0      0      0      0      0      0            0   \n",
       "1          2        0      0      0      1      0      0            0   \n",
       "2          2        0      1      0      0      0      0            0   \n",
       "3          2        0      1      0      0      0      0            0   \n",
       "4          3        0      1      0      0      0      0            0   \n",
       "\n",
       "   Menopause_3  Tumor-size_2  ...  Inv-nodes_4.0  Inv-nodes_5.0  \\\n",
       "0            0             0  ...              0              0   \n",
       "1            0             0  ...              0              0   \n",
       "2            0             0  ...              0              1   \n",
       "3            0             0  ...              0              1   \n",
       "4            0             0  ...              0              0   \n",
       "\n",
       "   Inv-nodes_6.0  Inv-nodes_7.0  Node-caps_1  Breast_1  Breast-quad_1  \\\n",
       "0              0              0            0         1              0   \n",
       "1              0              0            0         0              0   \n",
       "2              0              0            0         1              0   \n",
       "3              0              0            0         1              1   \n",
       "4              0              0            0         1              0   \n",
       "\n",
       "   Breast-quad_2  Breast-quad_3  Breast-quad_4  \n",
       "0              1              0              0  \n",
       "1              1              0              0  \n",
       "2              1              0              0  \n",
       "3              0              0              0  \n",
       "4              1              0              0  \n",
       "\n",
       "[5 rows x 31 columns]"
      ]
     },
     "execution_count": 127,
     "metadata": {},
     "output_type": "execute_result"
    }
   ],
   "source": [
    "###### creating dummy variable for each categorical variable\n",
    "given_test_all_attri_dummy=pd.get_dummies(given_test_all_attri,columns=[\"Class\",\"Age\",\"Menopause\",\"Tumor-size\",\"Inv-nodes\",\"Node-caps\",\"Breast\",\"Breast-quad\"],drop_first=True)\n",
    "given_test_all_attri_dummy.head()"
   ]
  },
  {
   "cell_type": "code",
   "execution_count": 128,
   "id": "a674d98f",
   "metadata": {},
   "outputs": [
    {
     "data": {
      "text/plain": [
       "(277, 31)"
      ]
     },
     "execution_count": 128,
     "metadata": {},
     "output_type": "execute_result"
    }
   ],
   "source": [
    "given_test_all_attri_dummy.shape"
   ]
  },
  {
   "cell_type": "code",
   "execution_count": 129,
   "id": "57ce2fce",
   "metadata": {},
   "outputs": [
    {
     "data": {
      "text/html": [
       "<div>\n",
       "<style scoped>\n",
       "    .dataframe tbody tr th:only-of-type {\n",
       "        vertical-align: middle;\n",
       "    }\n",
       "\n",
       "    .dataframe tbody tr th {\n",
       "        vertical-align: top;\n",
       "    }\n",
       "\n",
       "    .dataframe thead th {\n",
       "        text-align: right;\n",
       "    }\n",
       "</style>\n",
       "<table border=\"1\" class=\"dataframe\">\n",
       "  <thead>\n",
       "    <tr style=\"text-align: right;\">\n",
       "      <th></th>\n",
       "      <th>Deg-malig</th>\n",
       "      <th>Class_1</th>\n",
       "      <th>Age_2</th>\n",
       "      <th>Age_3</th>\n",
       "      <th>Age_4</th>\n",
       "      <th>Age_5</th>\n",
       "      <th>Age_6</th>\n",
       "      <th>Menopause_2</th>\n",
       "      <th>Menopause_3</th>\n",
       "      <th>Tumor-size_2</th>\n",
       "      <th>...</th>\n",
       "      <th>Inv-nodes_4.0</th>\n",
       "      <th>Inv-nodes_5.0</th>\n",
       "      <th>Inv-nodes_6.0</th>\n",
       "      <th>Inv-nodes_7.0</th>\n",
       "      <th>Node-caps_1</th>\n",
       "      <th>Breast_1</th>\n",
       "      <th>Breast-quad_1</th>\n",
       "      <th>Breast-quad_2</th>\n",
       "      <th>Breast-quad_3</th>\n",
       "      <th>Breast-quad_4</th>\n",
       "    </tr>\n",
       "  </thead>\n",
       "  <tbody>\n",
       "    <tr>\n",
       "      <th>0</th>\n",
       "      <td>2</td>\n",
       "      <td>0</td>\n",
       "      <td>0</td>\n",
       "      <td>0</td>\n",
       "      <td>0</td>\n",
       "      <td>0</td>\n",
       "      <td>0</td>\n",
       "      <td>0</td>\n",
       "      <td>0</td>\n",
       "      <td>0</td>\n",
       "      <td>...</td>\n",
       "      <td>0</td>\n",
       "      <td>0</td>\n",
       "      <td>0</td>\n",
       "      <td>0</td>\n",
       "      <td>0</td>\n",
       "      <td>1</td>\n",
       "      <td>0</td>\n",
       "      <td>1</td>\n",
       "      <td>0</td>\n",
       "      <td>0</td>\n",
       "    </tr>\n",
       "    <tr>\n",
       "      <th>1</th>\n",
       "      <td>2</td>\n",
       "      <td>0</td>\n",
       "      <td>0</td>\n",
       "      <td>0</td>\n",
       "      <td>1</td>\n",
       "      <td>0</td>\n",
       "      <td>0</td>\n",
       "      <td>0</td>\n",
       "      <td>0</td>\n",
       "      <td>0</td>\n",
       "      <td>...</td>\n",
       "      <td>0</td>\n",
       "      <td>0</td>\n",
       "      <td>0</td>\n",
       "      <td>0</td>\n",
       "      <td>0</td>\n",
       "      <td>0</td>\n",
       "      <td>0</td>\n",
       "      <td>1</td>\n",
       "      <td>0</td>\n",
       "      <td>0</td>\n",
       "    </tr>\n",
       "    <tr>\n",
       "      <th>2</th>\n",
       "      <td>2</td>\n",
       "      <td>0</td>\n",
       "      <td>1</td>\n",
       "      <td>0</td>\n",
       "      <td>0</td>\n",
       "      <td>0</td>\n",
       "      <td>0</td>\n",
       "      <td>0</td>\n",
       "      <td>0</td>\n",
       "      <td>0</td>\n",
       "      <td>...</td>\n",
       "      <td>0</td>\n",
       "      <td>1</td>\n",
       "      <td>0</td>\n",
       "      <td>0</td>\n",
       "      <td>0</td>\n",
       "      <td>1</td>\n",
       "      <td>0</td>\n",
       "      <td>1</td>\n",
       "      <td>0</td>\n",
       "      <td>0</td>\n",
       "    </tr>\n",
       "    <tr>\n",
       "      <th>3</th>\n",
       "      <td>2</td>\n",
       "      <td>0</td>\n",
       "      <td>1</td>\n",
       "      <td>0</td>\n",
       "      <td>0</td>\n",
       "      <td>0</td>\n",
       "      <td>0</td>\n",
       "      <td>0</td>\n",
       "      <td>0</td>\n",
       "      <td>0</td>\n",
       "      <td>...</td>\n",
       "      <td>0</td>\n",
       "      <td>1</td>\n",
       "      <td>0</td>\n",
       "      <td>0</td>\n",
       "      <td>0</td>\n",
       "      <td>1</td>\n",
       "      <td>1</td>\n",
       "      <td>0</td>\n",
       "      <td>0</td>\n",
       "      <td>0</td>\n",
       "    </tr>\n",
       "    <tr>\n",
       "      <th>4</th>\n",
       "      <td>3</td>\n",
       "      <td>0</td>\n",
       "      <td>1</td>\n",
       "      <td>0</td>\n",
       "      <td>0</td>\n",
       "      <td>0</td>\n",
       "      <td>0</td>\n",
       "      <td>0</td>\n",
       "      <td>0</td>\n",
       "      <td>0</td>\n",
       "      <td>...</td>\n",
       "      <td>0</td>\n",
       "      <td>0</td>\n",
       "      <td>0</td>\n",
       "      <td>0</td>\n",
       "      <td>0</td>\n",
       "      <td>1</td>\n",
       "      <td>0</td>\n",
       "      <td>1</td>\n",
       "      <td>0</td>\n",
       "      <td>0</td>\n",
       "    </tr>\n",
       "  </tbody>\n",
       "</table>\n",
       "<p>5 rows × 31 columns</p>\n",
       "</div>"
      ],
      "text/plain": [
       "   Deg-malig  Class_1  Age_2  Age_3  Age_4  Age_5  Age_6  Menopause_2  \\\n",
       "0          2        0      0      0      0      0      0            0   \n",
       "1          2        0      0      0      1      0      0            0   \n",
       "2          2        0      1      0      0      0      0            0   \n",
       "3          2        0      1      0      0      0      0            0   \n",
       "4          3        0      1      0      0      0      0            0   \n",
       "\n",
       "   Menopause_3  Tumor-size_2  ...  Inv-nodes_4.0  Inv-nodes_5.0  \\\n",
       "0            0             0  ...              0              0   \n",
       "1            0             0  ...              0              0   \n",
       "2            0             0  ...              0              1   \n",
       "3            0             0  ...              0              1   \n",
       "4            0             0  ...              0              0   \n",
       "\n",
       "   Inv-nodes_6.0  Inv-nodes_7.0  Node-caps_1  Breast_1  Breast-quad_1  \\\n",
       "0              0              0            0         1              0   \n",
       "1              0              0            0         0              0   \n",
       "2              0              0            0         1              0   \n",
       "3              0              0            0         1              1   \n",
       "4              0              0            0         1              0   \n",
       "\n",
       "   Breast-quad_2  Breast-quad_3  Breast-quad_4  \n",
       "0              1              0              0  \n",
       "1              1              0              0  \n",
       "2              1              0              0  \n",
       "3              0              0              0  \n",
       "4              1              0              0  \n",
       "\n",
       "[5 rows x 31 columns]"
      ]
     },
     "execution_count": 129,
     "metadata": {},
     "output_type": "execute_result"
    }
   ],
   "source": [
    "##### to get given test data,selecting 1st 10 rows\n",
    "final_test_df=given_test_all_attri_dummy.iloc[0:10,:]\n",
    "final_test_df.head()"
   ]
  },
  {
   "cell_type": "code",
   "execution_count": 130,
   "id": "78e783e2",
   "metadata": {},
   "outputs": [
    {
     "data": {
      "text/plain": [
       "array(['yes', 'yes', 'yes', 'no', 'yes', 'yes', 'no', 'no', 'no', 'yes'],\n",
       "      dtype=object)"
      ]
     },
     "execution_count": 130,
     "metadata": {},
     "output_type": "execute_result"
    }
   ],
   "source": [
    "######### prediction for given dataset\n",
    "final_test_data=final_test_df.values\n",
    "predictions_resampled_given=logmodel_resampled.predict(final_test_data)\n",
    "predictions_resampled_given"
   ]
  },
  {
   "cell_type": "code",
   "execution_count": 131,
   "id": "04a09a8d",
   "metadata": {},
   "outputs": [
    {
     "data": {
      "text/plain": [
       "array([[0.19337759, 0.80662241],\n",
       "       [0.34919001, 0.65080999],\n",
       "       [0.49925968, 0.50074032],\n",
       "       [0.81979602, 0.18020398],\n",
       "       [0.04682475, 0.95317525],\n",
       "       [0.18250567, 0.81749433],\n",
       "       [0.88795257, 0.11204743],\n",
       "       [0.66760701, 0.33239299],\n",
       "       [0.66934245, 0.33065755],\n",
       "       [0.26538261, 0.73461739]])"
      ]
     },
     "execution_count": 131,
     "metadata": {},
     "output_type": "execute_result"
    }
   ],
   "source": [
    "#### predicting probabilities for given dataset\n",
    "probability_resampled_given=logmodel_resampled.predict_proba(final_test_data)\n",
    "probability_resampled_given"
   ]
  },
  {
   "cell_type": "code",
   "execution_count": 132,
   "id": "47847632",
   "metadata": {},
   "outputs": [],
   "source": [
    "given_test[\"Irradiat\"]=predictions_resampled_given"
   ]
  },
  {
   "cell_type": "code",
   "execution_count": 133,
   "id": "ca3674ce",
   "metadata": {},
   "outputs": [],
   "source": [
    "prob_yes=[]\n",
    "prob_no=[]\n",
    "for i in probability_resampled_given:\n",
    "    prob_yes.append(i[1])\n",
    "    prob_no.append(i[0])\n",
    "given_test[\"prob_lg=yes\"]=prob_yes\n",
    "given_test[\"prob_lg=no\"]=prob_no"
   ]
  },
  {
   "cell_type": "code",
   "execution_count": 134,
   "id": "53b5d061",
   "metadata": {},
   "outputs": [
    {
     "data": {
      "text/html": [
       "<div>\n",
       "<style scoped>\n",
       "    .dataframe tbody tr th:only-of-type {\n",
       "        vertical-align: middle;\n",
       "    }\n",
       "\n",
       "    .dataframe tbody tr th {\n",
       "        vertical-align: top;\n",
       "    }\n",
       "\n",
       "    .dataframe thead th {\n",
       "        text-align: right;\n",
       "    }\n",
       "</style>\n",
       "<table border=\"1\" class=\"dataframe\">\n",
       "  <thead>\n",
       "    <tr style=\"text-align: right;\">\n",
       "      <th></th>\n",
       "      <th>Class</th>\n",
       "      <th>Age</th>\n",
       "      <th>Menopause</th>\n",
       "      <th>Tumor-size</th>\n",
       "      <th>Inv-nodes</th>\n",
       "      <th>Node-caps</th>\n",
       "      <th>Deg-malig</th>\n",
       "      <th>Breast</th>\n",
       "      <th>Breast-quad</th>\n",
       "      <th>Irradiat</th>\n",
       "      <th>prob_lg=yes</th>\n",
       "      <th>prob_lg=no</th>\n",
       "    </tr>\n",
       "  </thead>\n",
       "  <tbody>\n",
       "    <tr>\n",
       "      <th>0</th>\n",
       "      <td>no-recurrence-events</td>\n",
       "      <td>30-39</td>\n",
       "      <td>premeno</td>\n",
       "      <td>25-29</td>\n",
       "      <td>6-8</td>\n",
       "      <td>yes</td>\n",
       "      <td>2</td>\n",
       "      <td>right</td>\n",
       "      <td>left_up</td>\n",
       "      <td>yes</td>\n",
       "      <td>0.806622</td>\n",
       "      <td>0.193378</td>\n",
       "    </tr>\n",
       "    <tr>\n",
       "      <th>1</th>\n",
       "      <td>no-recurrence-events</td>\n",
       "      <td>50-59</td>\n",
       "      <td>premeno</td>\n",
       "      <td>25-29</td>\n",
       "      <td>NaN</td>\n",
       "      <td>yes</td>\n",
       "      <td>2</td>\n",
       "      <td>left</td>\n",
       "      <td>left_up</td>\n",
       "      <td>yes</td>\n",
       "      <td>0.650810</td>\n",
       "      <td>0.349190</td>\n",
       "    </tr>\n",
       "    <tr>\n",
       "      <th>2</th>\n",
       "      <td>no-recurrence-events</td>\n",
       "      <td>40-49</td>\n",
       "      <td>premeno</td>\n",
       "      <td>35-39</td>\n",
       "      <td>9-11</td>\n",
       "      <td>yes</td>\n",
       "      <td>2</td>\n",
       "      <td>right</td>\n",
       "      <td>left_up</td>\n",
       "      <td>yes</td>\n",
       "      <td>0.500740</td>\n",
       "      <td>0.499260</td>\n",
       "    </tr>\n",
       "    <tr>\n",
       "      <th>3</th>\n",
       "      <td>no-recurrence-events</td>\n",
       "      <td>40-49</td>\n",
       "      <td>premeno</td>\n",
       "      <td>35-39</td>\n",
       "      <td>9-11</td>\n",
       "      <td>yes</td>\n",
       "      <td>2</td>\n",
       "      <td>right</td>\n",
       "      <td>right_up</td>\n",
       "      <td>no</td>\n",
       "      <td>0.180204</td>\n",
       "      <td>0.819796</td>\n",
       "    </tr>\n",
       "    <tr>\n",
       "      <th>4</th>\n",
       "      <td>no-recurrence-events</td>\n",
       "      <td>40-49</td>\n",
       "      <td>premeno</td>\n",
       "      <td>40-44</td>\n",
       "      <td>3-5</td>\n",
       "      <td>yes</td>\n",
       "      <td>3</td>\n",
       "      <td>right</td>\n",
       "      <td>left_up</td>\n",
       "      <td>yes</td>\n",
       "      <td>0.953175</td>\n",
       "      <td>0.046825</td>\n",
       "    </tr>\n",
       "    <tr>\n",
       "      <th>5</th>\n",
       "      <td>no-recurrence-events</td>\n",
       "      <td>40-49</td>\n",
       "      <td>premeno</td>\n",
       "      <td>30-34</td>\n",
       "      <td>6-8</td>\n",
       "      <td>no</td>\n",
       "      <td>2</td>\n",
       "      <td>left</td>\n",
       "      <td>left_up</td>\n",
       "      <td>yes</td>\n",
       "      <td>0.817494</td>\n",
       "      <td>0.182506</td>\n",
       "    </tr>\n",
       "    <tr>\n",
       "      <th>6</th>\n",
       "      <td>no-recurrence-events</td>\n",
       "      <td>50-59</td>\n",
       "      <td>ge40</td>\n",
       "      <td>40-44</td>\n",
       "      <td>0-2</td>\n",
       "      <td>no</td>\n",
       "      <td>3</td>\n",
       "      <td>left</td>\n",
       "      <td>right_up</td>\n",
       "      <td>no</td>\n",
       "      <td>0.112047</td>\n",
       "      <td>0.887953</td>\n",
       "    </tr>\n",
       "    <tr>\n",
       "      <th>7</th>\n",
       "      <td>no-recurrence-events</td>\n",
       "      <td>60-69</td>\n",
       "      <td>ge40</td>\n",
       "      <td>30-34</td>\n",
       "      <td>NaN</td>\n",
       "      <td>no</td>\n",
       "      <td>2</td>\n",
       "      <td>left</td>\n",
       "      <td>left_low</td>\n",
       "      <td>no</td>\n",
       "      <td>0.332393</td>\n",
       "      <td>0.667607</td>\n",
       "    </tr>\n",
       "    <tr>\n",
       "      <th>8</th>\n",
       "      <td>no-recurrence-events</td>\n",
       "      <td>30-39</td>\n",
       "      <td>premeno</td>\n",
       "      <td>20-24</td>\n",
       "      <td>3-5</td>\n",
       "      <td>no</td>\n",
       "      <td>2</td>\n",
       "      <td>right</td>\n",
       "      <td>central</td>\n",
       "      <td>no</td>\n",
       "      <td>0.330658</td>\n",
       "      <td>0.669342</td>\n",
       "    </tr>\n",
       "    <tr>\n",
       "      <th>9</th>\n",
       "      <td>no-recurrence-events</td>\n",
       "      <td>30-39</td>\n",
       "      <td>premeno</td>\n",
       "      <td>40-44</td>\n",
       "      <td>3-5</td>\n",
       "      <td>no</td>\n",
       "      <td>3</td>\n",
       "      <td>right</td>\n",
       "      <td>right_up</td>\n",
       "      <td>yes</td>\n",
       "      <td>0.734617</td>\n",
       "      <td>0.265383</td>\n",
       "    </tr>\n",
       "  </tbody>\n",
       "</table>\n",
       "</div>"
      ],
      "text/plain": [
       "                  Class    Age Menopause Tumor-size Inv-nodes Node-caps  \\\n",
       "0  no-recurrence-events  30-39   premeno      25-29       6-8       yes   \n",
       "1  no-recurrence-events  50-59   premeno      25-29       NaN       yes   \n",
       "2  no-recurrence-events  40-49   premeno      35-39      9-11       yes   \n",
       "3  no-recurrence-events  40-49   premeno      35-39      9-11       yes   \n",
       "4  no-recurrence-events  40-49   premeno      40-44       3-5       yes   \n",
       "5  no-recurrence-events  40-49   premeno      30-34       6-8        no   \n",
       "6  no-recurrence-events  50-59      ge40      40-44       0-2        no   \n",
       "7  no-recurrence-events  60-69      ge40      30-34       NaN        no   \n",
       "8  no-recurrence-events  30-39   premeno      20-24       3-5        no   \n",
       "9  no-recurrence-events  30-39   premeno      40-44       3-5        no   \n",
       "\n",
       "   Deg-malig Breast Breast-quad Irradiat  prob_lg=yes  prob_lg=no  \n",
       "0          2  right     left_up      yes     0.806622    0.193378  \n",
       "1          2   left     left_up      yes     0.650810    0.349190  \n",
       "2          2  right     left_up      yes     0.500740    0.499260  \n",
       "3          2  right    right_up       no     0.180204    0.819796  \n",
       "4          3  right     left_up      yes     0.953175    0.046825  \n",
       "5          2   left     left_up      yes     0.817494    0.182506  \n",
       "6          3   left    right_up       no     0.112047    0.887953  \n",
       "7          2   left    left_low       no     0.332393    0.667607  \n",
       "8          2  right     central       no     0.330658    0.669342  \n",
       "9          3  right    right_up      yes     0.734617    0.265383  "
      ]
     },
     "execution_count": 134,
     "metadata": {},
     "output_type": "execute_result"
    }
   ],
   "source": [
    "given_test"
   ]
  },
  {
   "cell_type": "code",
   "execution_count": 135,
   "id": "dbd541fb",
   "metadata": {},
   "outputs": [],
   "source": [
    "given_test.to_csv(r'C:\\Users\\POULAMI\\Desktop\\own data\\given_test.csv')"
   ]
  },
  {
   "cell_type": "markdown",
   "id": "6f95d252",
   "metadata": {},
   "source": [
    "# Applying Naive Bayes Classifier"
   ]
  },
  {
   "cell_type": "code",
   "execution_count": 93,
   "id": "ee401b14",
   "metadata": {},
   "outputs": [
    {
     "data": {
      "text/plain": [
       "CategoricalNB(min_categories=2)"
      ]
     },
     "execution_count": 93,
     "metadata": {},
     "output_type": "execute_result"
    }
   ],
   "source": [
    "########################################################################### using another probabilistic model Naive-Bayes\n",
    "from sklearn.naive_bayes import CategoricalNB\n",
    "NBclassifier = CategoricalNB(min_categories=2)\n",
    "NBclassifier.fit(x_train, y_train)"
   ]
  },
  {
   "cell_type": "code",
   "execution_count": 94,
   "id": "1e790e84",
   "metadata": {},
   "outputs": [
    {
     "data": {
      "text/plain": [
       "array(['no', 'no', 'no', 'yes', 'no', 'yes', 'no', 'yes', 'no', 'no',\n",
       "       'no', 'no', 'yes', 'no', 'no', 'no', 'no', 'no', 'no', 'no', 'no',\n",
       "       'no', 'no', 'no', 'yes', 'no', 'no', 'no', 'no', 'yes', 'no', 'no',\n",
       "       'no', 'no', 'yes', 'no', 'no', 'no', 'no', 'no', 'no', 'no', 'no',\n",
       "       'no', 'no', 'no', 'yes', 'no', 'no', 'no', 'no', 'yes', 'no', 'no'],\n",
       "      dtype='<U3')"
      ]
     },
     "execution_count": 94,
     "metadata": {},
     "output_type": "execute_result"
    }
   ],
   "source": [
    "y_pred_nb=NBclassifier.predict(x_test)\n",
    "y_pred_nb"
   ]
  },
  {
   "cell_type": "code",
   "execution_count": 95,
   "id": "ab25dcee",
   "metadata": {},
   "outputs": [
    {
     "name": "stdout",
     "output_type": "stream",
     "text": [
      "              precision    recall  f1-score   support\n",
      "\n",
      "          no       0.89      0.91      0.90        44\n",
      "         yes       0.56      0.50      0.53        10\n",
      "\n",
      "    accuracy                           0.83        54\n",
      "   macro avg       0.72      0.70      0.71        54\n",
      "weighted avg       0.83      0.83      0.83        54\n",
      "\n"
     ]
    }
   ],
   "source": [
    "print(classification_report(y_test,y_pred_nb))"
   ]
  },
  {
   "cell_type": "code",
   "execution_count": 96,
   "id": "37f560ce",
   "metadata": {},
   "outputs": [
    {
     "data": {
      "text/plain": [
       "array([[40,  4],\n",
       "       [ 5,  5]], dtype=int64)"
      ]
     },
     "execution_count": 96,
     "metadata": {},
     "output_type": "execute_result"
    }
   ],
   "source": [
    "confusion_matrix(y_test,y_pred_nb)"
   ]
  },
  {
   "cell_type": "code",
   "execution_count": 97,
   "id": "714e4e65",
   "metadata": {},
   "outputs": [
    {
     "data": {
      "text/plain": [
       "0.8333333333333334"
      ]
     },
     "execution_count": 97,
     "metadata": {},
     "output_type": "execute_result"
    }
   ],
   "source": [
    "accuracy_score(y_test,y_pred_nb) "
   ]
  },
  {
   "cell_type": "code",
   "execution_count": 109,
   "id": "191bf3c2",
   "metadata": {},
   "outputs": [
    {
     "data": {
      "text/plain": [
       "array(['yes', 'yes', 'no', 'no', 'yes', 'no', 'no', 'no', 'no', 'no'],\n",
       "      dtype='<U3')"
      ]
     },
     "execution_count": 109,
     "metadata": {},
     "output_type": "execute_result"
    }
   ],
   "source": [
    "######### prediction for given dataset by Naive Bayes\n",
    "predictions_given_nb=NBclassifier.predict(final_test_data)\n",
    "predictions_given_nb"
   ]
  },
  {
   "cell_type": "code",
   "execution_count": 110,
   "id": "ddb792a2",
   "metadata": {},
   "outputs": [
    {
     "data": {
      "text/plain": [
       "array([[0.30222022, 0.69777978],\n",
       "       [0.47797734, 0.52202266],\n",
       "       [0.53453914, 0.46546086],\n",
       "       [0.81511015, 0.18488985],\n",
       "       [0.21468647, 0.78531353],\n",
       "       [0.57245039, 0.42754961],\n",
       "       [0.97676297, 0.02323703],\n",
       "       [0.918418  , 0.081582  ],\n",
       "       [0.91137913, 0.08862087],\n",
       "       [0.83336549, 0.16663451]])"
      ]
     },
     "execution_count": 110,
     "metadata": {},
     "output_type": "execute_result"
    }
   ],
   "source": [
    "#### predicting probabilities for given dataset by Naive Bayes\n",
    "probability_given_nb=NBclassifier.predict_proba(final_test_data)\n",
    "probability_given_nb"
   ]
  },
  {
   "cell_type": "code",
   "execution_count": 111,
   "id": "9f9f7737",
   "metadata": {},
   "outputs": [
    {
     "data": {
      "text/html": [
       "<div>\n",
       "<style scoped>\n",
       "    .dataframe tbody tr th:only-of-type {\n",
       "        vertical-align: middle;\n",
       "    }\n",
       "\n",
       "    .dataframe tbody tr th {\n",
       "        vertical-align: top;\n",
       "    }\n",
       "\n",
       "    .dataframe thead th {\n",
       "        text-align: right;\n",
       "    }\n",
       "</style>\n",
       "<table border=\"1\" class=\"dataframe\">\n",
       "  <thead>\n",
       "    <tr style=\"text-align: right;\">\n",
       "      <th></th>\n",
       "      <th>Class</th>\n",
       "      <th>Age</th>\n",
       "      <th>Menopause</th>\n",
       "      <th>Tumor-size</th>\n",
       "      <th>Inv-nodes</th>\n",
       "      <th>Node-caps</th>\n",
       "      <th>Deg-malig</th>\n",
       "      <th>Breast</th>\n",
       "      <th>Breast-quad</th>\n",
       "    </tr>\n",
       "  </thead>\n",
       "  <tbody>\n",
       "    <tr>\n",
       "      <th>0</th>\n",
       "      <td>no-recurrence-events</td>\n",
       "      <td>30-39</td>\n",
       "      <td>premeno</td>\n",
       "      <td>25-29</td>\n",
       "      <td>6-8</td>\n",
       "      <td>yes</td>\n",
       "      <td>2</td>\n",
       "      <td>right</td>\n",
       "      <td>left_up</td>\n",
       "    </tr>\n",
       "    <tr>\n",
       "      <th>1</th>\n",
       "      <td>no-recurrence-events</td>\n",
       "      <td>50-59</td>\n",
       "      <td>premeno</td>\n",
       "      <td>25-29</td>\n",
       "      <td>NaN</td>\n",
       "      <td>yes</td>\n",
       "      <td>2</td>\n",
       "      <td>left</td>\n",
       "      <td>left_up</td>\n",
       "    </tr>\n",
       "    <tr>\n",
       "      <th>2</th>\n",
       "      <td>no-recurrence-events</td>\n",
       "      <td>40-49</td>\n",
       "      <td>premeno</td>\n",
       "      <td>35-39</td>\n",
       "      <td>9-11</td>\n",
       "      <td>yes</td>\n",
       "      <td>2</td>\n",
       "      <td>right</td>\n",
       "      <td>left_up</td>\n",
       "    </tr>\n",
       "    <tr>\n",
       "      <th>3</th>\n",
       "      <td>no-recurrence-events</td>\n",
       "      <td>40-49</td>\n",
       "      <td>premeno</td>\n",
       "      <td>35-39</td>\n",
       "      <td>9-11</td>\n",
       "      <td>yes</td>\n",
       "      <td>2</td>\n",
       "      <td>right</td>\n",
       "      <td>right_up</td>\n",
       "    </tr>\n",
       "    <tr>\n",
       "      <th>4</th>\n",
       "      <td>no-recurrence-events</td>\n",
       "      <td>40-49</td>\n",
       "      <td>premeno</td>\n",
       "      <td>40-44</td>\n",
       "      <td>3-5</td>\n",
       "      <td>yes</td>\n",
       "      <td>3</td>\n",
       "      <td>right</td>\n",
       "      <td>left_up</td>\n",
       "    </tr>\n",
       "    <tr>\n",
       "      <th>5</th>\n",
       "      <td>no-recurrence-events</td>\n",
       "      <td>40-49</td>\n",
       "      <td>premeno</td>\n",
       "      <td>30-34</td>\n",
       "      <td>6-8</td>\n",
       "      <td>no</td>\n",
       "      <td>2</td>\n",
       "      <td>left</td>\n",
       "      <td>left_up</td>\n",
       "    </tr>\n",
       "    <tr>\n",
       "      <th>6</th>\n",
       "      <td>no-recurrence-events</td>\n",
       "      <td>50-59</td>\n",
       "      <td>ge40</td>\n",
       "      <td>40-44</td>\n",
       "      <td>0-2</td>\n",
       "      <td>no</td>\n",
       "      <td>3</td>\n",
       "      <td>left</td>\n",
       "      <td>right_up</td>\n",
       "    </tr>\n",
       "    <tr>\n",
       "      <th>7</th>\n",
       "      <td>no-recurrence-events</td>\n",
       "      <td>60-69</td>\n",
       "      <td>ge40</td>\n",
       "      <td>30-34</td>\n",
       "      <td>NaN</td>\n",
       "      <td>no</td>\n",
       "      <td>2</td>\n",
       "      <td>left</td>\n",
       "      <td>left_low</td>\n",
       "    </tr>\n",
       "    <tr>\n",
       "      <th>8</th>\n",
       "      <td>no-recurrence-events</td>\n",
       "      <td>30-39</td>\n",
       "      <td>premeno</td>\n",
       "      <td>20-24</td>\n",
       "      <td>3-5</td>\n",
       "      <td>no</td>\n",
       "      <td>2</td>\n",
       "      <td>right</td>\n",
       "      <td>central</td>\n",
       "    </tr>\n",
       "    <tr>\n",
       "      <th>9</th>\n",
       "      <td>no-recurrence-events</td>\n",
       "      <td>30-39</td>\n",
       "      <td>premeno</td>\n",
       "      <td>40-44</td>\n",
       "      <td>3-5</td>\n",
       "      <td>no</td>\n",
       "      <td>3</td>\n",
       "      <td>right</td>\n",
       "      <td>right_up</td>\n",
       "    </tr>\n",
       "  </tbody>\n",
       "</table>\n",
       "</div>"
      ],
      "text/plain": [
       "                  Class    Age Menopause Tumor-size Inv-nodes Node-caps  \\\n",
       "0  no-recurrence-events  30-39   premeno      25-29       6-8       yes   \n",
       "1  no-recurrence-events  50-59   premeno      25-29       NaN       yes   \n",
       "2  no-recurrence-events  40-49   premeno      35-39      9-11       yes   \n",
       "3  no-recurrence-events  40-49   premeno      35-39      9-11       yes   \n",
       "4  no-recurrence-events  40-49   premeno      40-44       3-5       yes   \n",
       "5  no-recurrence-events  40-49   premeno      30-34       6-8        no   \n",
       "6  no-recurrence-events  50-59      ge40      40-44       0-2        no   \n",
       "7  no-recurrence-events  60-69      ge40      30-34       NaN        no   \n",
       "8  no-recurrence-events  30-39   premeno      20-24       3-5        no   \n",
       "9  no-recurrence-events  30-39   premeno      40-44       3-5        no   \n",
       "\n",
       "   Deg-malig Breast Breast-quad  \n",
       "0          2  right     left_up  \n",
       "1          2   left     left_up  \n",
       "2          2  right     left_up  \n",
       "3          2  right    right_up  \n",
       "4          3  right     left_up  \n",
       "5          2   left     left_up  \n",
       "6          3   left    right_up  \n",
       "7          2   left    left_low  \n",
       "8          2  right     central  \n",
       "9          3  right    right_up  "
      ]
     },
     "execution_count": 111,
     "metadata": {},
     "output_type": "execute_result"
    }
   ],
   "source": [
    "given_test_nb=given_test.drop([\"Irradiat\",\"prob=yes\",\"prob=no\"],axis=1)\n",
    "given_test_nb"
   ]
  },
  {
   "cell_type": "code",
   "execution_count": 112,
   "id": "a0088f21",
   "metadata": {},
   "outputs": [],
   "source": [
    "given_test_nb[\"Irradiat\"]=predictions_given_nb"
   ]
  },
  {
   "cell_type": "code",
   "execution_count": 114,
   "id": "f3161251",
   "metadata": {},
   "outputs": [],
   "source": [
    "prob_yes=[]\n",
    "prob_no=[]\n",
    "for i in probability_given_nb:\n",
    "    prob_yes.append(i[1])\n",
    "    prob_no.append(i[0])\n",
    "given_test_nb[\"prob_nb=yes\"]=prob_yes\n",
    "given_test_nb[\"prob_nb=no\"]=prob_no"
   ]
  },
  {
   "cell_type": "code",
   "execution_count": 115,
   "id": "a0e3df08",
   "metadata": {},
   "outputs": [
    {
     "data": {
      "text/html": [
       "<div>\n",
       "<style scoped>\n",
       "    .dataframe tbody tr th:only-of-type {\n",
       "        vertical-align: middle;\n",
       "    }\n",
       "\n",
       "    .dataframe tbody tr th {\n",
       "        vertical-align: top;\n",
       "    }\n",
       "\n",
       "    .dataframe thead th {\n",
       "        text-align: right;\n",
       "    }\n",
       "</style>\n",
       "<table border=\"1\" class=\"dataframe\">\n",
       "  <thead>\n",
       "    <tr style=\"text-align: right;\">\n",
       "      <th></th>\n",
       "      <th>Class</th>\n",
       "      <th>Age</th>\n",
       "      <th>Menopause</th>\n",
       "      <th>Tumor-size</th>\n",
       "      <th>Inv-nodes</th>\n",
       "      <th>Node-caps</th>\n",
       "      <th>Deg-malig</th>\n",
       "      <th>Breast</th>\n",
       "      <th>Breast-quad</th>\n",
       "      <th>Irradiat</th>\n",
       "      <th>prob_nb=yes</th>\n",
       "      <th>prob_nb=no</th>\n",
       "    </tr>\n",
       "  </thead>\n",
       "  <tbody>\n",
       "    <tr>\n",
       "      <th>0</th>\n",
       "      <td>no-recurrence-events</td>\n",
       "      <td>30-39</td>\n",
       "      <td>premeno</td>\n",
       "      <td>25-29</td>\n",
       "      <td>6-8</td>\n",
       "      <td>yes</td>\n",
       "      <td>2</td>\n",
       "      <td>right</td>\n",
       "      <td>left_up</td>\n",
       "      <td>yes</td>\n",
       "      <td>0.697780</td>\n",
       "      <td>0.302220</td>\n",
       "    </tr>\n",
       "    <tr>\n",
       "      <th>1</th>\n",
       "      <td>no-recurrence-events</td>\n",
       "      <td>50-59</td>\n",
       "      <td>premeno</td>\n",
       "      <td>25-29</td>\n",
       "      <td>NaN</td>\n",
       "      <td>yes</td>\n",
       "      <td>2</td>\n",
       "      <td>left</td>\n",
       "      <td>left_up</td>\n",
       "      <td>yes</td>\n",
       "      <td>0.522023</td>\n",
       "      <td>0.477977</td>\n",
       "    </tr>\n",
       "    <tr>\n",
       "      <th>2</th>\n",
       "      <td>no-recurrence-events</td>\n",
       "      <td>40-49</td>\n",
       "      <td>premeno</td>\n",
       "      <td>35-39</td>\n",
       "      <td>9-11</td>\n",
       "      <td>yes</td>\n",
       "      <td>2</td>\n",
       "      <td>right</td>\n",
       "      <td>left_up</td>\n",
       "      <td>no</td>\n",
       "      <td>0.465461</td>\n",
       "      <td>0.534539</td>\n",
       "    </tr>\n",
       "    <tr>\n",
       "      <th>3</th>\n",
       "      <td>no-recurrence-events</td>\n",
       "      <td>40-49</td>\n",
       "      <td>premeno</td>\n",
       "      <td>35-39</td>\n",
       "      <td>9-11</td>\n",
       "      <td>yes</td>\n",
       "      <td>2</td>\n",
       "      <td>right</td>\n",
       "      <td>right_up</td>\n",
       "      <td>no</td>\n",
       "      <td>0.184890</td>\n",
       "      <td>0.815110</td>\n",
       "    </tr>\n",
       "    <tr>\n",
       "      <th>4</th>\n",
       "      <td>no-recurrence-events</td>\n",
       "      <td>40-49</td>\n",
       "      <td>premeno</td>\n",
       "      <td>40-44</td>\n",
       "      <td>3-5</td>\n",
       "      <td>yes</td>\n",
       "      <td>3</td>\n",
       "      <td>right</td>\n",
       "      <td>left_up</td>\n",
       "      <td>yes</td>\n",
       "      <td>0.785314</td>\n",
       "      <td>0.214686</td>\n",
       "    </tr>\n",
       "    <tr>\n",
       "      <th>5</th>\n",
       "      <td>no-recurrence-events</td>\n",
       "      <td>40-49</td>\n",
       "      <td>premeno</td>\n",
       "      <td>30-34</td>\n",
       "      <td>6-8</td>\n",
       "      <td>no</td>\n",
       "      <td>2</td>\n",
       "      <td>left</td>\n",
       "      <td>left_up</td>\n",
       "      <td>no</td>\n",
       "      <td>0.427550</td>\n",
       "      <td>0.572450</td>\n",
       "    </tr>\n",
       "    <tr>\n",
       "      <th>6</th>\n",
       "      <td>no-recurrence-events</td>\n",
       "      <td>50-59</td>\n",
       "      <td>ge40</td>\n",
       "      <td>40-44</td>\n",
       "      <td>0-2</td>\n",
       "      <td>no</td>\n",
       "      <td>3</td>\n",
       "      <td>left</td>\n",
       "      <td>right_up</td>\n",
       "      <td>no</td>\n",
       "      <td>0.023237</td>\n",
       "      <td>0.976763</td>\n",
       "    </tr>\n",
       "    <tr>\n",
       "      <th>7</th>\n",
       "      <td>no-recurrence-events</td>\n",
       "      <td>60-69</td>\n",
       "      <td>ge40</td>\n",
       "      <td>30-34</td>\n",
       "      <td>NaN</td>\n",
       "      <td>no</td>\n",
       "      <td>2</td>\n",
       "      <td>left</td>\n",
       "      <td>left_low</td>\n",
       "      <td>no</td>\n",
       "      <td>0.081582</td>\n",
       "      <td>0.918418</td>\n",
       "    </tr>\n",
       "    <tr>\n",
       "      <th>8</th>\n",
       "      <td>no-recurrence-events</td>\n",
       "      <td>30-39</td>\n",
       "      <td>premeno</td>\n",
       "      <td>20-24</td>\n",
       "      <td>3-5</td>\n",
       "      <td>no</td>\n",
       "      <td>2</td>\n",
       "      <td>right</td>\n",
       "      <td>central</td>\n",
       "      <td>no</td>\n",
       "      <td>0.088621</td>\n",
       "      <td>0.911379</td>\n",
       "    </tr>\n",
       "    <tr>\n",
       "      <th>9</th>\n",
       "      <td>no-recurrence-events</td>\n",
       "      <td>30-39</td>\n",
       "      <td>premeno</td>\n",
       "      <td>40-44</td>\n",
       "      <td>3-5</td>\n",
       "      <td>no</td>\n",
       "      <td>3</td>\n",
       "      <td>right</td>\n",
       "      <td>right_up</td>\n",
       "      <td>no</td>\n",
       "      <td>0.166635</td>\n",
       "      <td>0.833365</td>\n",
       "    </tr>\n",
       "  </tbody>\n",
       "</table>\n",
       "</div>"
      ],
      "text/plain": [
       "                  Class    Age Menopause Tumor-size Inv-nodes Node-caps  \\\n",
       "0  no-recurrence-events  30-39   premeno      25-29       6-8       yes   \n",
       "1  no-recurrence-events  50-59   premeno      25-29       NaN       yes   \n",
       "2  no-recurrence-events  40-49   premeno      35-39      9-11       yes   \n",
       "3  no-recurrence-events  40-49   premeno      35-39      9-11       yes   \n",
       "4  no-recurrence-events  40-49   premeno      40-44       3-5       yes   \n",
       "5  no-recurrence-events  40-49   premeno      30-34       6-8        no   \n",
       "6  no-recurrence-events  50-59      ge40      40-44       0-2        no   \n",
       "7  no-recurrence-events  60-69      ge40      30-34       NaN        no   \n",
       "8  no-recurrence-events  30-39   premeno      20-24       3-5        no   \n",
       "9  no-recurrence-events  30-39   premeno      40-44       3-5        no   \n",
       "\n",
       "   Deg-malig Breast Breast-quad Irradiat  prob_nb=yes  prob_nb=no  \n",
       "0          2  right     left_up      yes     0.697780    0.302220  \n",
       "1          2   left     left_up      yes     0.522023    0.477977  \n",
       "2          2  right     left_up       no     0.465461    0.534539  \n",
       "3          2  right    right_up       no     0.184890    0.815110  \n",
       "4          3  right     left_up      yes     0.785314    0.214686  \n",
       "5          2   left     left_up       no     0.427550    0.572450  \n",
       "6          3   left    right_up       no     0.023237    0.976763  \n",
       "7          2   left    left_low       no     0.081582    0.918418  \n",
       "8          2  right     central       no     0.088621    0.911379  \n",
       "9          3  right    right_up       no     0.166635    0.833365  "
      ]
     },
     "execution_count": 115,
     "metadata": {},
     "output_type": "execute_result"
    }
   ],
   "source": [
    "given_test_nb"
   ]
  },
  {
   "cell_type": "code",
   "execution_count": 116,
   "id": "30d353d6",
   "metadata": {},
   "outputs": [],
   "source": [
    "given_test_nb.to_csv(r'C:\\Users\\POULAMI\\Desktop\\own data\\given_test_nb.csv')"
   ]
  }
 ],
 "metadata": {
  "kernelspec": {
   "display_name": "Python 3 (ipykernel)",
   "language": "python",
   "name": "python3"
  },
  "language_info": {
   "codemirror_mode": {
    "name": "ipython",
    "version": 3
   },
   "file_extension": ".py",
   "mimetype": "text/x-python",
   "name": "python",
   "nbconvert_exporter": "python",
   "pygments_lexer": "ipython3",
   "version": "3.9.12"
  }
 },
 "nbformat": 4,
 "nbformat_minor": 5
}
